{
 "cells": [
  {
   "cell_type": "markdown",
   "metadata": {},
   "source": [
    "# Generative Adversarial Network\n",
    "\n",
    "In this notebook, we'll be building a generative adversarial network (GAN) trained on the MNIST dataset. From this, we'll be able to generate new handwritten digits!\n",
    "\n",
    "GANs were [first reported on](https://arxiv.org/abs/1406.2661) in 2014 from Ian Goodfellow and others in Yoshua Bengio's lab. Since then, GANs have exploded in popularity. Here are a few examples to check out:\n",
    "\n",
    "* [Pix2Pix](https://affinelayer.com/pixsrv/) \n",
    "* [CycleGAN & Pix2Pix in PyTorch, Jun-Yan Zhu](https://github.com/junyanz/pytorch-CycleGAN-and-pix2pix)\n",
    "* [A list of generative models](https://github.com/wiseodd/generative-models)\n",
    "\n",
    "The idea behind GANs is that you have two networks, a generator $G$ and a discriminator $D$, competing against each other. The generator makes \"fake\" data to pass to the discriminator. The discriminator also sees real training data and predicts if the data it's received is real or fake. \n",
    "> * The generator is trained to fool the discriminator, it wants to output data that looks _as close as possible_ to real, training data. \n",
    "* The discriminator is a classifier that is trained to figure out which data is real and which is fake. \n",
    "\n",
    "What ends up happening is that the generator learns to make data that is indistinguishable from real data to the discriminator.\n",
    "\n",
    "<img src='assets/gan_pipeline.png' width=70% />\n",
    "\n",
    "The general structure of a GAN is shown in the diagram above, using MNIST images as data. The latent sample is a random vector that the generator uses to construct its fake images. This is often called a **latent vector** and that vector space is called **latent space**. As the generator trains, it figures out how to map latent vectors to recognizable images that can fool the discriminator.\n",
    "\n",
    "If you're interested in generating only new images, you can throw out the discriminator after training. In this notebook, I'll show you how to define and train these adversarial networks in PyTorch and generate new images!"
   ]
  },
  {
   "cell_type": "code",
   "execution_count": 1,
   "metadata": {},
   "outputs": [],
   "source": [
    "# Inspired by https://stackoverflow.com/a/8856387/5353461\n",
    "import inspect\n",
    "import re\n",
    "\n",
    "def describe(arg):\n",
    "    frame = inspect.currentframe()\n",
    "    callerframeinfo = inspect.getframeinfo(frame.f_back)\n",
    "    try:\n",
    "        context = inspect.getframeinfo(frame.f_back).code_context\n",
    "        caller_lines = ''.join([line.strip() for line in context])\n",
    "        m = re.search(r'describe\\s*\\((.+?)\\)$', caller_lines)\n",
    "        if m:\n",
    "            caller_lines = m.group(1)\n",
    "            position = str(callerframeinfo.filename) + \"@\" + str(callerframeinfo.lineno)\n",
    "\n",
    "            # Add additional info such as array shape or string length\n",
    "            additional = ''\n",
    "            if hasattr(arg, \"shape\"):\n",
    "                additional += \"[shape={}]\".format(arg.shape)\n",
    "            elif hasattr(arg, \"__len__\"):  # shape includes length information\n",
    "                additional += \"[len={}]\".format(len(arg))\n",
    "\n",
    "            # Use str() representation if it is printable\n",
    "            str_arg = str(arg)\n",
    "            str_arg = str_arg if str_arg.isprintable() else repr(arg)\n",
    "\n",
    "            print(position, \"describe(\" + caller_lines + \") = \", end='')\n",
    "            print(arg.__class__.__name__ + \"(\" + str_arg + \")\", additional)\n",
    "        else:\n",
    "            print(\"Describe: couldn't find caller context\")\n",
    "\n",
    "    finally:\n",
    "        del frame\n",
    "        del callerframeinfo"
   ]
  },
  {
   "cell_type": "code",
   "execution_count": 2,
   "metadata": {},
   "outputs": [],
   "source": [
    "%matplotlib inline\n",
    "\n",
    "import numpy as np\n",
    "import torch\n",
    "import matplotlib.pyplot as plt"
   ]
  },
  {
   "cell_type": "code",
   "execution_count": 3,
   "metadata": {},
   "outputs": [],
   "source": [
    "# Check for a GPU\n",
    "device = 'cuda' if torch.cuda.is_available() else 'cpu'"
   ]
  },
  {
   "cell_type": "code",
   "execution_count": 4,
   "metadata": {},
   "outputs": [],
   "source": [
    "from torchvision import datasets\n",
    "import torchvision.transforms as transforms\n",
    "\n",
    "# number of subprocesses to use for data loading\n",
    "num_workers = 0\n",
    "# how many samples per batch to load\n",
    "batch_size = 64\n",
    "\n",
    "# convert data to torch.FloatTensor\n",
    "transform = transforms.ToTensor()\n",
    "\n",
    "# get the training datasets\n",
    "train_data = datasets.MNIST(root='data', train=True,\n",
    "                                   download=True, transform=transform)\n",
    "\n",
    "# prepare data loader\n",
    "train_loader = torch.utils.data.DataLoader(train_data, batch_size=batch_size,\n",
    "                                           num_workers=num_workers)"
   ]
  },
  {
   "cell_type": "markdown",
   "metadata": {},
   "source": [
    "### Visualize the data"
   ]
  },
  {
   "cell_type": "code",
   "execution_count": 5,
   "metadata": {},
   "outputs": [
    {
     "data": {
      "text/plain": [
       "<matplotlib.image.AxesImage at 0x7f89f78edf28>"
      ]
     },
     "execution_count": 5,
     "metadata": {},
     "output_type": "execute_result"
    },
    {
     "data": {
      "image/png": "[encoded data removed]",
      "text/plain": [
       "<matplotlib.figure.Figure at 0x7f8a525687f0>"
      ]
     },
     "metadata": {
      "needs_background": "light"
     },
     "output_type": "display_data"
    }
   ],
   "source": [
    "# obtain one batch of training images\n",
    "dataiter = iter(train_loader)\n",
    "images, labels = dataiter.next()\n",
    "images = images.numpy()\n",
    "\n",
    "# get one image from the batch\n",
    "img = np.squeeze(images[0])\n",
    "\n",
    "fig = plt.figure(figsize = (3,3)) \n",
    "ax = fig.add_subplot(111)\n",
    "ax.imshow(img, cmap='gray')"
   ]
  },
  {
   "cell_type": "markdown",
   "metadata": {},
   "source": [
    "---\n",
    "# Define the Model\n",
    "\n",
    "A GAN is comprised of two adversarial networks, a discriminator and a generator."
   ]
  },
  {
   "cell_type": "markdown",
   "metadata": {},
   "source": [
    "## Discriminator\n",
    "\n",
    "The discriminator network is going to be a pretty typical linear classifier. To make this network a universal function approximator, we'll need at least one hidden layer, and these hidden layers should have one key attribute:\n",
    "> All hidden layers will have a [Leaky ReLu](https://pytorch.org/docs/stable/nn.html#torch.nn.LeakyReLU) activation function applied to their outputs.\n",
    "\n",
    "<img src='assets/gan_network.png' width=70% />\n",
    "\n",
    "#### Leaky ReLu\n",
    "\n",
    "We should use a leaky ReLU to allow gradients to flow backwards through the layer unimpeded. A leaky ReLU is like a normal ReLU, except that there is a small non-zero output for negative input values.\n",
    "\n",
    "<img src='assets/leaky_relu.png' width=40% />\n",
    "\n",
    "#### Sigmoid Output\n",
    "\n",
    "We'll also take the approach of using a more numerically stable loss function on the outputs. Recall that we want the discriminator to output a value 0-1 indicating whether an image is _real or fake_. \n",
    "> We will ultimately use [BCEWithLogitsLoss](https://pytorch.org/docs/stable/nn.html#bcewithlogitsloss), which combines a `sigmoid` activation function **and** and binary cross entropy loss in one function. \n",
    "\n",
    "So, our final output layer should not have any activation function applied to it."
   ]
  },
  {
   "cell_type": "code",
   "execution_count": 6,
   "metadata": {},
   "outputs": [],
   "source": [
    "import torch.nn as nn\n",
    "import torch.nn.functional as F\n",
    "\n",
    "class Discriminator(nn.Module):\n",
    "\n",
    "    def __init__(self, input_size, hidden_dim, output_size):\n",
    "        super(Discriminator, self).__init__()\n",
    "        \n",
    "        if not type(hidden_dim) is list:\n",
    "            hidden_dim = (hidden_dim, )\n",
    "        \n",
    "        self.layers = nn.ModuleList()\n",
    "        \n",
    "        for in_out in zip([input_size, *hidden_dim], [*hidden_dim, output_size]):\n",
    "            self.layers.append(nn.Linear(in_features=in_out[0], out_features=in_out[1]))\n",
    "        \n",
    "    def forward(self, x):        \n",
    "        x = x.reshape(-1, self.layers[0].in_features)  # Flatten\n",
    "        \n",
    "        for layer in self.layers:\n",
    "            x = layer(x)\n",
    "            x = F.dropout(x, p=0.3)\n",
    "            # Only apply activation if not the last layer\n",
    "            if layer != self.layers[-1]:\n",
    "                x = F.leaky_relu(x, negative_slope=0.2)\n",
    "        return x\n",
    "\n",
    "# Test\n",
    "d = Discriminator(28*28, [500, 200, 30], 1)\n",
    "t = torch.rand(28, 28)\n",
    "d(t);"
   ]
  },
  {
   "cell_type": "markdown",
   "metadata": {},
   "source": [
    "## Generator\n",
    "\n",
    "The generator network will be almost exactly the same as the discriminator network, except that we're applying a [tanh activation function](https://pytorch.org/docs/stable/nn.html#tanh) to our output layer.\n",
    "\n",
    "#### tanh Output\n",
    "The generator has been found to perform the best with $tanh$ for the generator output, which scales the output to be between -1 and 1, instead of 0 and 1. \n",
    "\n",
    "<img src='assets/tanh_fn.png' width=40% />\n",
    "\n",
    "Recall that we also want these outputs to be comparable to the *real* input pixel values, which are read in as normalized values between 0 and 1. \n",
    "> So, we'll also have to **scale our real input images to have pixel values between -1 and 1** when we train the discriminator. \n",
    "\n",
    "I'll do this in the training loop, later on."
   ]
  },
  {
   "cell_type": "code",
   "execution_count": 7,
   "metadata": {},
   "outputs": [],
   "source": [
    "class Generator(nn.Module):\n",
    "\n",
    "    def __init__(self, input_size, hidden_dim, output_size):\n",
    "        super(Generator, self).__init__()\n",
    "        \n",
    "        if not type(hidden_dim) is list:\n",
    "            hidden_dim = (hidden_dim, )\n",
    "        \n",
    "        self.layers = nn.ModuleList()\n",
    "        \n",
    "        for in_out in zip([input_size, *hidden_dim], [*hidden_dim, output_size]):\n",
    "            self.layers.append(nn.Linear(in_features=in_out[0], out_features=in_out[1]))\n",
    "\n",
    "    def forward(self, x):\n",
    "        assert x.shape[-1] == self.layers[0].in_features, \"Unexpected latent vector size\"\n",
    "        \n",
    "        for layer in self.layers:\n",
    "            x = layer(x)\n",
    "            x = F.dropout(x, p=0.3)\n",
    "            # Only apply activation if not the last layer\n",
    "            if layer != self.layers[-1]:\n",
    "                x = F.leaky_relu(x, negative_slope=0.2)\n",
    "\n",
    "        return F.tanh(x)\n",
    "\n",
    "# Test\n",
    "d = Generator(50, [30, 200, 500], 28*28)\n",
    "t = torch.rand(3, 50)\n",
    "d(t);"
   ]
  },
  {
   "cell_type": "markdown",
   "metadata": {},
   "source": [
    "## Model hyperparameters"
   ]
  },
  {
   "cell_type": "code",
   "execution_count": 8,
   "metadata": {},
   "outputs": [],
   "source": [
    "# Discriminator hyperparams\n",
    "\n",
    "# Size of input image to discriminator (28*28)\n",
    "input_size = 28*28\n",
    "# Size of discriminator output (real or fake)\n",
    "d_output_size = 1\n",
    "# Size of *last* hidden layer in the discriminator\n",
    "#### For my code, size of each hidden layer\n",
    "d_hidden_size = [500, 100, 40]\n",
    "\n",
    "# Generator hyperparams\n",
    "\n",
    "# Size of latent vector to give to generator\n",
    "z_size = 100\n",
    "# Size of discriminator output (generated image)\n",
    "g_output_size = 28 * 28\n",
    "# Size of *first* hidden layer in the generator\n",
    "g_hidden_size = [40, 100, 500]"
   ]
  },
  {
   "cell_type": "markdown",
   "metadata": {},
   "source": [
    "## Build complete network\n",
    "\n",
    "Now we're instantiating the discriminator and generator from the classes defined above. Make sure you've passed in the correct input arguments."
   ]
  },
  {
   "cell_type": "code",
   "execution_count": 9,
   "metadata": {},
   "outputs": [
    {
     "name": "stdout",
     "output_type": "stream",
     "text": [
      "Discriminator(\n",
      "  (layers): ModuleList(\n",
      "    (0): Linear(in_features=784, out_features=500, bias=True)\n",
      "    (1): Linear(in_features=500, out_features=100, bias=True)\n",
      "    (2): Linear(in_features=100, out_features=40, bias=True)\n",
      "    (3): Linear(in_features=40, out_features=1, bias=True)\n",
      "  )\n",
      ")\n",
      "\n",
      "Generator(\n",
      "  (layers): ModuleList(\n",
      "    (0): Linear(in_features=100, out_features=40, bias=True)\n",
      "    (1): Linear(in_features=40, out_features=100, bias=True)\n",
      "    (2): Linear(in_features=100, out_features=500, bias=True)\n",
      "    (3): Linear(in_features=500, out_features=784, bias=True)\n",
      "  )\n",
      ")\n"
     ]
    }
   ],
   "source": [
    "# instantiate discriminator and generator\n",
    "D = Discriminator(input_size, d_hidden_size, d_output_size).to(device)\n",
    "G = Generator(z_size, g_hidden_size, g_output_size).to(device)\n",
    "\n",
    "# check that they are as you expect\n",
    "print(D)\n",
    "print()\n",
    "print(G)"
   ]
  },
  {
   "cell_type": "markdown",
   "metadata": {},
   "source": [
    "---\n",
    "## Discriminator and Generator Losses\n",
    "\n",
    "Now we need to calculate the losses. \n",
    "\n",
    "### Discriminator Losses\n",
    "\n",
    "> * For the discriminator, the total loss is the sum of the losses for real and fake images, `d_loss = d_real_loss + d_fake_loss`. \n",
    "* Remember that we want the discriminator to output 1 for real images and 0 for fake images, so we need to set up the losses to reflect that.\n",
    "\n",
    "<img src='assets/gan_pipeline.png' width=70% />\n",
    "\n",
    "The losses will by binary cross entropy loss with logits, which we can get with [BCEWithLogitsLoss](https://pytorch.org/docs/stable/nn.html#bcewithlogitsloss). This combines a `sigmoid` activation function **and** and binary cross entropy loss in one function.\n",
    "\n",
    "For the real images, we want `D(real_images) = 1`. That is, we want the discriminator to classify the the real images with a label = 1, indicating that these are real. To help the discriminator generalize better, the labels are **reduced a bit from 1.0 to 0.9**. For this, we'll use the parameter `smooth`; if True, then we should smooth our labels. In PyTorch, this looks like `labels = torch.ones(size) * 0.9`\n",
    "\n",
    "The discriminator loss for the fake data is similar. We want `D(fake_images) = 0`, where the fake images are the _generator output_, `fake_images = G(z)`. \n",
    "\n",
    "### Generator Loss\n",
    "\n",
    "The generator loss will look similar only with flipped labels. The generator's goal is to get `D(fake_images) = 1`. In this case, the labels are **flipped** to represent that the generator is trying to fool the discriminator into thinking that the images it generates (fakes) are real!"
   ]
  },
  {
   "cell_type": "code",
   "execution_count": 10,
   "metadata": {},
   "outputs": [],
   "source": [
    "# Calculate losses\n",
    "def real_loss(D_out, smooth=False):\n",
    "    # compare logits to real labels\n",
    "    # smooth labels if smooth=True\n",
    "    \n",
    "    assert D_out.shape[-1] == 1, \"Expected single output values\"\n",
    "    labels = torch.ones(D_out.shape[0]).to(device)  # Ones for real images\n",
    "\n",
    "    if smooth == True:\n",
    "        smooth = 0.9  # Assign default value for smoothing\n",
    "    \n",
    "    if smooth:  # Apply label smoothing\n",
    "        assert smooth > 0 and smooth < 1, \"Invalid value for smooth\"\n",
    "        labels = labels * smooth\n",
    "    \n",
    "    criterion = nn.BCEWithLogitsLoss()    \n",
    "    return criterion(D_out.squeeze(), labels)\n",
    "\n",
    "def fake_loss(D_out):\n",
    "    # compare logits to fake labels\n",
    "    criterion = nn.BCEWithLogitsLoss()\n",
    "    labels = torch.zeros(D_out.shape).to(device)  # Zeros for fake images\n",
    "    return criterion(D_out, labels)"
   ]
  },
  {
   "cell_type": "markdown",
   "metadata": {},
   "source": [
    "## Optimizers\n",
    "\n",
    "We want to update the generator and discriminator variables separately. So, we'll define two separate Adam optimizers."
   ]
  },
  {
   "cell_type": "code",
   "execution_count": 11,
   "metadata": {
    "scrolled": true
   },
   "outputs": [],
   "source": [
    "import torch.optim as optim\n",
    "\n",
    "# learning rate for optimizers\n",
    "lr = 0.002\n",
    "\n",
    "# Create optimizers for the discriminator and generator\n",
    "d_optimizer = optim.Adam(D.parameters(), lr=lr)\n",
    "g_optimizer = optim.Adam(G.parameters(), lr=lr)"
   ]
  },
  {
   "cell_type": "markdown",
   "metadata": {},
   "source": [
    "---\n",
    "## Training\n",
    "\n",
    "Training will involve alternating between training the discriminator and the generator. We'll use our functions `real_loss` and `fake_loss` to help us calculate the discriminator losses in all of the following cases.\n",
    "\n",
    "### Discriminator training\n",
    "1. Compute the discriminator loss on real, training images        \n",
    "2. Generate fake images\n",
    "3. Compute the discriminator loss on fake, generated images     \n",
    "4. Add up real and fake loss\n",
    "5. Perform backpropagation + an optimization step to update the discriminator's weights\n",
    "\n",
    "### Generator training\n",
    "1. Generate fake images\n",
    "2. Compute the discriminator loss on fake images, using **flipped** labels!\n",
    "3. Perform backpropagation + an optimization step to update the generator's weights\n",
    "\n",
    "#### Saving Samples\n",
    "\n",
    "As we train, we'll also print out some loss statistics and save some generated \"fake\" samples."
   ]
  },
  {
   "cell_type": "code",
   "execution_count": 12,
   "metadata": {
    "scrolled": true
   },
   "outputs": [
    {
     "name": "stdout",
     "output_type": "stream",
     "text": [
      "Epoch [    1/   40] | d_loss: 1.3920 | g_loss: 0.7193\n",
      "Epoch [    1/   40] | d_loss: 0.3637 | g_loss: 11.3843\n",
      "Epoch [    1/   40] | d_loss: 0.3262 | g_loss: 10.0259\n",
      "Epoch [    2/   40] | d_loss: 0.3261 | g_loss: 10.7848\n",
      "Epoch [    2/   40] | d_loss: 0.3254 | g_loss: 11.6049\n",
      "Epoch [    2/   40] | d_loss: 0.3253 | g_loss: 12.6304\n",
      "Epoch [    3/   40] | d_loss: 0.3254 | g_loss: 12.5637\n",
      "Epoch [    3/   40] | d_loss: 0.3254 | g_loss: 9.9196\n",
      "Epoch [    3/   40] | d_loss: 0.3253 | g_loss: 15.0972\n",
      "Epoch [    4/   40] | d_loss: 0.3252 | g_loss: 12.9537\n",
      "Epoch [    4/   40] | d_loss: 0.3259 | g_loss: 9.9921\n",
      "Epoch [    4/   40] | d_loss: 0.3252 | g_loss: 13.5697\n",
      "Epoch [    5/   40] | d_loss: 0.3252 | g_loss: 13.6793\n",
      "Epoch [    5/   40] | d_loss: 0.3251 | g_loss: 14.4963\n",
      "Epoch [    5/   40] | d_loss: 0.3251 | g_loss: 14.6742\n",
      "Epoch [    6/   40] | d_loss: 0.3251 | g_loss: 14.7485\n",
      "Epoch [    6/   40] | d_loss: 0.3251 | g_loss: 15.2937\n",
      "Epoch [    6/   40] | d_loss: 0.3251 | g_loss: 15.5003\n",
      "Epoch [    7/   40] | d_loss: 0.3251 | g_loss: 14.0663\n",
      "Epoch [    7/   40] | d_loss: 0.3253 | g_loss: 12.6843\n",
      "Epoch [    7/   40] | d_loss: 0.3252 | g_loss: 14.1961\n",
      "Epoch [    8/   40] | d_loss: 0.3252 | g_loss: 14.6229\n",
      "Epoch [    8/   40] | d_loss: 0.3252 | g_loss: 14.9351\n",
      "Epoch [    8/   40] | d_loss: 0.3251 | g_loss: 15.3891\n",
      "Epoch [    9/   40] | d_loss: 0.3251 | g_loss: 15.4855\n",
      "Epoch [    9/   40] | d_loss: 0.3252 | g_loss: 15.6202\n",
      "Epoch [    9/   40] | d_loss: 0.3252 | g_loss: 15.6037\n",
      "Epoch [   10/   40] | d_loss: 0.3251 | g_loss: 15.4462\n",
      "Epoch [   10/   40] | d_loss: 0.3251 | g_loss: 15.5952\n",
      "Epoch [   10/   40] | d_loss: 0.3251 | g_loss: 15.6813\n",
      "Epoch [   11/   40] | d_loss: 0.3252 | g_loss: 15.4507\n",
      "Epoch [   11/   40] | d_loss: 0.3251 | g_loss: 15.8992\n",
      "Epoch [   11/   40] | d_loss: 0.3251 | g_loss: 16.1812\n",
      "Epoch [   12/   40] | d_loss: 0.3251 | g_loss: 15.8761\n",
      "Epoch [   12/   40] | d_loss: 0.3251 | g_loss: 16.2801\n",
      "Epoch [   12/   40] | d_loss: 0.3251 | g_loss: 16.1922\n",
      "Epoch [   13/   40] | d_loss: 0.3252 | g_loss: 16.1697\n",
      "Epoch [   13/   40] | d_loss: 0.3251 | g_loss: 16.4303\n",
      "Epoch [   13/   40] | d_loss: 0.3251 | g_loss: 16.5545\n",
      "Epoch [   14/   40] | d_loss: 0.3251 | g_loss: 16.2418\n",
      "Epoch [   14/   40] | d_loss: 0.3251 | g_loss: 16.5967\n",
      "Epoch [   14/   40] | d_loss: 0.3251 | g_loss: 16.7097\n",
      "Epoch [   15/   40] | d_loss: 0.3252 | g_loss: 16.6870\n",
      "Epoch [   15/   40] | d_loss: 0.3251 | g_loss: 16.6758\n",
      "Epoch [   15/   40] | d_loss: 0.3251 | g_loss: 16.9589\n",
      "Epoch [   16/   40] | d_loss: 0.3251 | g_loss: 16.6923\n",
      "Epoch [   16/   40] | d_loss: 0.3251 | g_loss: 16.7278\n",
      "Epoch [   16/   40] | d_loss: 0.3263 | g_loss: 17.2710\n",
      "Epoch [   17/   40] | d_loss: 0.3252 | g_loss: 12.1700\n",
      "Epoch [   17/   40] | d_loss: 0.3252 | g_loss: 14.1382\n",
      "Epoch [   17/   40] | d_loss: 0.3251 | g_loss: 14.8049\n",
      "Epoch [   18/   40] | d_loss: 0.3251 | g_loss: 14.9462\n",
      "Epoch [   18/   40] | d_loss: 0.3251 | g_loss: 15.3507\n",
      "Epoch [   18/   40] | d_loss: 0.3251 | g_loss: 15.5587\n",
      "Epoch [   19/   40] | d_loss: 0.3251 | g_loss: 15.7166\n",
      "Epoch [   19/   40] | d_loss: 0.3251 | g_loss: 15.6996\n",
      "Epoch [   19/   40] | d_loss: 0.3251 | g_loss: 15.5311\n",
      "Epoch [   20/   40] | d_loss: 0.3251 | g_loss: 15.9555\n",
      "Epoch [   20/   40] | d_loss: 0.3251 | g_loss: 15.7327\n",
      "Epoch [   20/   40] | d_loss: 0.3251 | g_loss: 15.6467\n",
      "Epoch [   21/   40] | d_loss: 0.3251 | g_loss: 16.3369\n",
      "Epoch [   21/   40] | d_loss: 0.3251 | g_loss: 14.3918\n",
      "Epoch [   21/   40] | d_loss: 0.3251 | g_loss: 15.6279\n",
      "Epoch [   22/   40] | d_loss: 0.3251 | g_loss: 16.4462\n",
      "Epoch [   22/   40] | d_loss: 0.3251 | g_loss: 16.6222\n",
      "Epoch [   22/   40] | d_loss: 0.3251 | g_loss: 16.6652\n",
      "Epoch [   23/   40] | d_loss: 0.3251 | g_loss: 16.4446\n",
      "Epoch [   23/   40] | d_loss: 0.3251 | g_loss: 16.7938\n",
      "Epoch [   23/   40] | d_loss: 0.3251 | g_loss: 16.6751\n",
      "Epoch [   24/   40] | d_loss: 0.3251 | g_loss: 16.4932\n",
      "Epoch [   24/   40] | d_loss: 0.3251 | g_loss: 16.9497\n",
      "Epoch [   24/   40] | d_loss: 0.3251 | g_loss: 16.8929\n",
      "Epoch [   25/   40] | d_loss: 0.3252 | g_loss: 16.0955\n",
      "Epoch [   25/   40] | d_loss: 0.3251 | g_loss: 16.7428\n",
      "Epoch [   25/   40] | d_loss: 0.3251 | g_loss: 16.7905\n",
      "Epoch [   26/   40] | d_loss: 0.3251 | g_loss: 16.6282\n",
      "Epoch [   26/   40] | d_loss: 0.3251 | g_loss: 16.8622\n",
      "Epoch [   26/   40] | d_loss: 0.3251 | g_loss: 16.8339\n",
      "Epoch [   27/   40] | d_loss: 0.3251 | g_loss: 16.7845\n",
      "Epoch [   27/   40] | d_loss: 0.3251 | g_loss: 16.9275\n",
      "Epoch [   27/   40] | d_loss: 0.3251 | g_loss: 16.5671\n",
      "Epoch [   28/   40] | d_loss: 0.3251 | g_loss: 16.8947\n",
      "Epoch [   28/   40] | d_loss: 0.3251 | g_loss: 16.9618\n",
      "Epoch [   28/   40] | d_loss: 0.3251 | g_loss: 17.1046\n",
      "Epoch [   29/   40] | d_loss: 0.3251 | g_loss: 17.3278\n",
      "Epoch [   29/   40] | d_loss: 0.3251 | g_loss: 17.6771\n",
      "Epoch [   29/   40] | d_loss: 0.3251 | g_loss: 17.4913\n",
      "Epoch [   30/   40] | d_loss: 0.3251 | g_loss: 17.4551\n",
      "Epoch [   30/   40] | d_loss: 0.3251 | g_loss: 17.5329\n",
      "Epoch [   30/   40] | d_loss: 0.3251 | g_loss: 17.2648\n",
      "Epoch [   31/   40] | d_loss: 0.3251 | g_loss: 17.3170\n",
      "Epoch [   31/   40] | d_loss: 0.3251 | g_loss: 17.4564\n",
      "Epoch [   31/   40] | d_loss: 0.3251 | g_loss: 17.4518\n",
      "Epoch [   32/   40] | d_loss: 0.3252 | g_loss: 17.7535\n",
      "Epoch [   32/   40] | d_loss: 0.3251 | g_loss: 16.9831\n",
      "Epoch [   32/   40] | d_loss: 0.3251 | g_loss: 16.8868\n",
      "Epoch [   33/   40] | d_loss: 0.3251 | g_loss: 16.9216\n",
      "Epoch [   33/   40] | d_loss: 0.3251 | g_loss: 16.9668\n",
      "Epoch [   33/   40] | d_loss: 0.3251 | g_loss: 16.8226\n",
      "Epoch [   34/   40] | d_loss: 0.3251 | g_loss: 16.8166\n",
      "Epoch [   34/   40] | d_loss: 0.3251 | g_loss: 17.2872\n",
      "Epoch [   34/   40] | d_loss: 0.3251 | g_loss: 16.8670\n",
      "Epoch [   35/   40] | d_loss: 0.3251 | g_loss: 16.9968\n",
      "Epoch [   35/   40] | d_loss: 0.3251 | g_loss: 16.9619\n",
      "Epoch [   35/   40] | d_loss: 0.3251 | g_loss: 17.2399\n",
      "Epoch [   36/   40] | d_loss: 0.3251 | g_loss: 16.5961\n",
      "Epoch [   36/   40] | d_loss: 0.3251 | g_loss: 17.3739\n",
      "Epoch [   36/   40] | d_loss: 0.3251 | g_loss: 16.9217\n",
      "Epoch [   37/   40] | d_loss: 0.3251 | g_loss: 17.5067\n",
      "Epoch [   37/   40] | d_loss: 0.3251 | g_loss: 17.2748\n",
      "Epoch [   37/   40] | d_loss: 0.3251 | g_loss: 16.8714\n",
      "Epoch [   38/   40] | d_loss: 0.3251 | g_loss: 17.4901\n",
      "Epoch [   38/   40] | d_loss: 0.3251 | g_loss: 17.0218\n",
      "Epoch [   38/   40] | d_loss: 0.3251 | g_loss: 39.6179\n",
      "Epoch [   39/   40] | d_loss: 0.3251 | g_loss: 39.1960\n",
      "Epoch [   39/   40] | d_loss: 0.3251 | g_loss: 38.9760\n",
      "Epoch [   39/   40] | d_loss: 0.3251 | g_loss: 38.7579\n",
      "Epoch [   40/   40] | d_loss: 0.3251 | g_loss: 38.6431\n",
      "Epoch [   40/   40] | d_loss: 0.3251 | g_loss: 38.5731\n",
      "Epoch [   40/   40] | d_loss: 0.3251 | g_loss: 38.3768\n"
     ]
    }
   ],
   "source": [
    "import pickle as pkl\n",
    "\n",
    "# training hyperparams\n",
    "num_epochs = 40\n",
    "\n",
    "# keep track of loss and generated, \"fake\" samples\n",
    "samples = []\n",
    "losses = []\n",
    "\n",
    "print_every = 400\n",
    "\n",
    "# Get some fixed data for sampling. These are images that are held\n",
    "# constant throughout training, and allow us to inspect the model's performance\n",
    "sample_size=16\n",
    "fixed_z = np.random.uniform(-1, 1, size=(sample_size, z_size))\n",
    "fixed_z = torch.from_numpy(fixed_z).float().to(device)\n",
    "\n",
    "# train the network\n",
    "D.train()\n",
    "G.train()\n",
    "for epoch in range(num_epochs):\n",
    "    \n",
    "    for batch_i, (real_images, _) in enumerate(train_loader):\n",
    "                \n",
    "        real_images = real_images.to(device)\n",
    "        batch_size = real_images.size(0)\n",
    "        \n",
    "        ## Important rescaling step ## \n",
    "        real_images = real_images*2 - 1  # rescale input images from [0,1) to [-1, 1)\n",
    "        \n",
    "        # ============================================\n",
    "        #            TRAIN THE DISCRIMINATOR\n",
    "        # ============================================\n",
    "\n",
    "        d_optimizer.zero_grad()\n",
    "        \n",
    "        # 1. Train with real images\n",
    "\n",
    "        # Compute the discriminator losses on real images\n",
    "        # use smoothed labels\n",
    "        \n",
    "        real_losses = real_loss(D(real_images), smooth=True)\n",
    "        \n",
    "        # 2. Train with fake images\n",
    "        \n",
    "        # Generate fake images\n",
    "        z = np.random.uniform(-1, 1, size=(batch_size, z_size))\n",
    "        z = torch.from_numpy(z).float().to(device)\n",
    "        fake_images = G(z)\n",
    "        \n",
    "        # Compute the discriminator losses on fake images        \n",
    "        \n",
    "        fake_losses = fake_loss(D(fake_images))\n",
    "        \n",
    "        # add up real and fake losses and perform backprop\n",
    "        d_loss = real_losses + fake_losses\n",
    "        d_loss.backward()\n",
    "        d_optimizer.step()\n",
    "        \n",
    "        \n",
    "        # =========================================\n",
    "        #            TRAIN THE GENERATOR\n",
    "        # =========================================\n",
    "        \n",
    "        g_optimizer.zero_grad()\n",
    "        \n",
    "        # 1. Train with fake images and flipped labels\n",
    "        \n",
    "        # Generate fake images\n",
    "    \n",
    "#         z = torch.Tensor(batch_size, z_size).uniform_(-1, 1).to(device)\n",
    "        z = np.random.uniform(-1, 1, size=(batch_size, z_size))\n",
    "        z = torch.from_numpy(z).float().to(device)\n",
    "        fake_images = G(z)\n",
    "        \n",
    "        # Compute the discriminator losses on fake images \n",
    "        # using flipped labels!\n",
    "        \n",
    "        g_loss = real_loss(D(fake_images), smooth=False)\n",
    "        \n",
    "        # perform backprop\n",
    "        g_loss.backward()\n",
    "        g_optimizer.step()\n",
    "        \n",
    "\n",
    "        # Print some loss stats\n",
    "        if batch_i % print_every == 0:\n",
    "            # print discriminator and generator loss\n",
    "            print('Epoch [{:5d}/{:5d}] | d_loss: {:6.4f} | g_loss: {:6.4f}'.format(\n",
    "                    epoch+1, num_epochs, d_loss.item(), g_loss.item()))\n",
    "\n",
    "    \n",
    "    ## AFTER EACH EPOCH##\n",
    "    # append discriminator loss and generator loss\n",
    "    losses.append((d_loss.item(), g_loss.item()))\n",
    "    \n",
    "    # generate and save sample, fake images\n",
    "    G.eval() # eval mode for generating samples\n",
    "    samples_z = G(fixed_z)\n",
    "    samples.append(samples_z)\n",
    "    G.train() # back to train mode\n",
    "\n",
    "\n",
    "# Save training generator samples\n",
    "with open('train_samples.pkl', 'wb') as f:\n",
    "    pkl.dump(samples, f)"
   ]
  },
  {
   "cell_type": "markdown",
   "metadata": {},
   "source": [
    "## Training loss\n",
    "\n",
    "Here we'll plot the training losses for the generator and discriminator, recorded after each epoch."
   ]
  },
  {
   "cell_type": "code",
   "execution_count": 19,
   "metadata": {},
   "outputs": [
    {
     "name": "stdout",
     "output_type": "stream",
     "text": [
      "<ipython-input-19-5bbf19f55e5c>@8 describe(losses) = ndarray(array([[  0.32594258,  10.78519058],\n",
      "       [  0.32521641,  12.55366707],\n",
      "       [  0.3253291 ,  12.9553299 ],\n",
      "       [  0.32518089,  13.67926216],\n",
      "       [  0.32511103,  14.75539398],\n",
      "       [  0.32510993,  14.01892471],\n",
      "       [  0.32519206,  14.580163  ],\n",
      "       [  0.32513458,  15.53573799],\n",
      "       [  0.32512689,  15.39052677],\n",
      "       [  0.32511166,  15.26663876],\n",
      "       [  0.32509059,  15.72153473],\n",
      "       [  0.32509086,  15.97603607],\n",
      "       [  0.32509166,  16.1842041 ],\n",
      "       [  0.32511017,  16.34268188],\n",
      "       [  0.32510623,  16.50357246],\n",
      "       [  0.32540658,  12.09981728],\n",
      "       [  0.32509977,  14.94565487],\n",
      "       [  0.32510915,  15.74701118],\n",
      "       [  0.32512835,  16.0586834 ],\n",
      "       [  0.32509094,  16.34663582],\n",
      "       [  0.32509592,  16.44122505],\n",
      "       [  0.32514751,  16.35781097],\n",
      "       [  0.32513177,  16.37496185],\n",
      "       [  0.32531983,  16.00640678],\n",
      "       [  0.32508495,  16.50781059],\n",
      "       [  0.32509217,  16.73636246],\n",
      "       [  0.32508856,  16.81017876],\n",
      "       [  0.32508546,  17.32476997],\n",
      "       [  0.32508728,  17.46372223],\n",
      "       [  0.32511121,  17.30694008],\n",
      "       [  0.32533014,  17.91214561],\n",
      "       [  0.32508364,  16.92724609],\n",
      "       [  0.32508975,  16.80273628],\n",
      "       [  0.32509816,  17.12496567],\n",
      "       [  0.32509229,  16.61526299],\n",
      "       [  0.32509533,  17.43323517],\n",
      "       [  0.32508922,  17.47170639],\n",
      "       [  0.32508847,  39.21583176],\n",
      "       [  0.32509279,  38.62013245],\n",
      "       [  0.32508346,  38.2462616 ]])) [shape=(40, 2)]\n"
     ]
    },
    {
     "data": {
      "image/png": "[encoded data removed]",
      "text/plain": [
       "<matplotlib.figure.Figure at 0x7f89f0098358>"
      ]
     },
     "metadata": {
      "needs_background": "light"
     },
     "output_type": "display_data"
    }
   ],
   "source": [
    "fig, ax = plt.subplots()\n",
    "losses = np.array(losses)\n",
    "plt.plot(losses.T[0], label='Discriminator')\n",
    "plt.plot(losses.T[1], label='Generator')\n",
    "plt.title(\"Training Losses\")\n",
    "plt.legend();\n",
    "\n",
    "describe(losses)"
   ]
  },
  {
   "cell_type": "markdown",
   "metadata": {},
   "source": [
    "## Generator samples from training\n",
    "\n",
    "Here we can view samples of images from the generator. First we'll look at the images we saved during training."
   ]
  },
  {
   "cell_type": "code",
   "execution_count": 14,
   "metadata": {},
   "outputs": [],
   "source": [
    "# helper function for viewing a list of passed in sample images\n",
    "def view_samples(epoch, samples):\n",
    "    fig, axes = plt.subplots(figsize=(7,7), nrows=4, ncols=4, sharey=True, sharex=True)\n",
    "    for ax, img in zip(axes.flatten(), samples[epoch]):\n",
    "        img = img.detach()\n",
    "        ax.xaxis.set_visible(False)\n",
    "        ax.yaxis.set_visible(False)\n",
    "        im = ax.imshow(img.reshape((28,28)), cmap='Greys_r')"
   ]
  },
  {
   "cell_type": "code",
   "execution_count": 15,
   "metadata": {},
   "outputs": [],
   "source": [
    "# Load samples from generator, taken while training\n",
    "with open('train_samples.pkl', 'rb') as f:\n",
    "    samples = pkl.load(f)"
   ]
  },
  {
   "cell_type": "markdown",
   "metadata": {},
   "source": [
    "These are samples from the final training epoch. You can see the generator is able to reproduce numbers like 1, 7, 3, 2. Since this is just a sample, it isn't representative of the full range of images this generator can make."
   ]
  },
  {
   "cell_type": "code",
   "execution_count": 16,
   "metadata": {},
   "outputs": [
    {
     "data": {
      "image/png": "[encoded data removed]",
      "text/plain": [
       "<matplotlib.figure.Figure at 0x7f89f1014c50>"
      ]
     },
     "metadata": {
      "needs_background": "light"
     },
     "output_type": "display_data"
    }
   ],
   "source": [
    "# -1 indicates final epoch's samples (the last in the list)\n",
    "view_samples(-1, samples)"
   ]
  },
  {
   "cell_type": "markdown",
   "metadata": {},
   "source": [
    "Below I'm showing the generated images as the network was training, every 10 epochs."
   ]
  },
  {
   "cell_type": "code",
   "execution_count": 17,
   "metadata": {},
   "outputs": [
    {
     "data": {
      "image/png": "[encoded data removed]",
      "text/plain": [
       "<matplotlib.figure.Figure at 0x7f89f1673160>"
      ]
     },
     "metadata": {
      "needs_background": "light"
     },
     "output_type": "display_data"
    }
   ],
   "source": [
    "rows = 10 # split epochs into 10, so 100/10 = every 10 epochs\n",
    "cols = 6\n",
    "fig, axes = plt.subplots(figsize=(7,12), nrows=rows, ncols=cols, sharex=True, sharey=True)\n",
    "\n",
    "for sample, ax_row in zip(samples[::int(len(samples)/rows)], axes):\n",
    "    for img, ax in zip(sample[::int(len(sample)/cols)], ax_row):\n",
    "        img = img.detach()\n",
    "        ax.imshow(img.reshape((28,28)), cmap='Greys_r')\n",
    "        ax.xaxis.set_visible(False)\n",
    "        ax.yaxis.set_visible(False)"
   ]
  },
  {
   "cell_type": "markdown",
   "metadata": {},
   "source": [
    "It starts out as all noise. Then it learns to make only the center white and the rest black. You can start to see some number like structures appear out of the noise like 1s and 9s."
   ]
  },
  {
   "cell_type": "markdown",
   "metadata": {},
   "source": [
    "## Sampling from the generator\n",
    "\n",
    "We can also get completely new images from the generator by using the checkpoint we saved after training. **We just need to pass in a new latent vector $z$ and we'll get new samples**!"
   ]
  },
  {
   "cell_type": "code",
   "execution_count": 18,
   "metadata": {},
   "outputs": [
    {
     "ename": "RuntimeError",
     "evalue": "Expected object of type torch.cuda.FloatTensor but found type torch.FloatTensor for argument #4 'mat1'",
     "output_type": "error",
     "traceback": [
      "\u001b[0;31m---------------------------------------------------------------------------\u001b[0m",
      "\u001b[0;31mRuntimeError\u001b[0m                              Traceback (most recent call last)",
      "\u001b[0;32m<ipython-input-18-bd01b42b65b2>\u001b[0m in \u001b[0;36m<module>\u001b[0;34m()\u001b[0m\n\u001b[1;32m      6\u001b[0m \u001b[0mG\u001b[0m\u001b[0;34m.\u001b[0m\u001b[0meval\u001b[0m\u001b[0;34m(\u001b[0m\u001b[0;34m)\u001b[0m \u001b[0;31m# eval mode\u001b[0m\u001b[0;34m\u001b[0m\u001b[0m\n\u001b[1;32m      7\u001b[0m \u001b[0;31m# generated samples\u001b[0m\u001b[0;34m\u001b[0m\u001b[0;34m\u001b[0m\u001b[0m\n\u001b[0;32m----> 8\u001b[0;31m \u001b[0mrand_images\u001b[0m \u001b[0;34m=\u001b[0m \u001b[0mG\u001b[0m\u001b[0;34m(\u001b[0m\u001b[0mrand_z\u001b[0m\u001b[0;34m)\u001b[0m\u001b[0;34m\u001b[0m\u001b[0m\n\u001b[0m\u001b[1;32m      9\u001b[0m \u001b[0;34m\u001b[0m\u001b[0m\n\u001b[1;32m     10\u001b[0m \u001b[0;31m# 0 indicates the first set of samples in the passed in list\u001b[0m\u001b[0;34m\u001b[0m\u001b[0;34m\u001b[0m\u001b[0m\n",
      "\u001b[0;32m/opt/conda/lib/python3.6/site-packages/torch/nn/modules/module.py\u001b[0m in \u001b[0;36m__call__\u001b[0;34m(self, *input, **kwargs)\u001b[0m\n\u001b[1;32m    489\u001b[0m             \u001b[0mresult\u001b[0m \u001b[0;34m=\u001b[0m \u001b[0mself\u001b[0m\u001b[0;34m.\u001b[0m\u001b[0m_slow_forward\u001b[0m\u001b[0;34m(\u001b[0m\u001b[0;34m*\u001b[0m\u001b[0minput\u001b[0m\u001b[0;34m,\u001b[0m \u001b[0;34m**\u001b[0m\u001b[0mkwargs\u001b[0m\u001b[0;34m)\u001b[0m\u001b[0;34m\u001b[0m\u001b[0m\n\u001b[1;32m    490\u001b[0m         \u001b[0;32melse\u001b[0m\u001b[0;34m:\u001b[0m\u001b[0;34m\u001b[0m\u001b[0m\n\u001b[0;32m--> 491\u001b[0;31m             \u001b[0mresult\u001b[0m \u001b[0;34m=\u001b[0m \u001b[0mself\u001b[0m\u001b[0;34m.\u001b[0m\u001b[0mforward\u001b[0m\u001b[0;34m(\u001b[0m\u001b[0;34m*\u001b[0m\u001b[0minput\u001b[0m\u001b[0;34m,\u001b[0m \u001b[0;34m**\u001b[0m\u001b[0mkwargs\u001b[0m\u001b[0;34m)\u001b[0m\u001b[0;34m\u001b[0m\u001b[0m\n\u001b[0m\u001b[1;32m    492\u001b[0m         \u001b[0;32mfor\u001b[0m \u001b[0mhook\u001b[0m \u001b[0;32min\u001b[0m \u001b[0mself\u001b[0m\u001b[0;34m.\u001b[0m\u001b[0m_forward_hooks\u001b[0m\u001b[0;34m.\u001b[0m\u001b[0mvalues\u001b[0m\u001b[0;34m(\u001b[0m\u001b[0;34m)\u001b[0m\u001b[0;34m:\u001b[0m\u001b[0;34m\u001b[0m\u001b[0m\n\u001b[1;32m    493\u001b[0m             \u001b[0mhook_result\u001b[0m \u001b[0;34m=\u001b[0m \u001b[0mhook\u001b[0m\u001b[0;34m(\u001b[0m\u001b[0mself\u001b[0m\u001b[0;34m,\u001b[0m \u001b[0minput\u001b[0m\u001b[0;34m,\u001b[0m \u001b[0mresult\u001b[0m\u001b[0;34m)\u001b[0m\u001b[0;34m\u001b[0m\u001b[0m\n",
      "\u001b[0;32m<ipython-input-7-55d8c703e288>\u001b[0m in \u001b[0;36mforward\u001b[0;34m(self, x)\u001b[0m\n\u001b[1;32m     16\u001b[0m \u001b[0;34m\u001b[0m\u001b[0m\n\u001b[1;32m     17\u001b[0m         \u001b[0;32mfor\u001b[0m \u001b[0mlayer\u001b[0m \u001b[0;32min\u001b[0m \u001b[0mself\u001b[0m\u001b[0;34m.\u001b[0m\u001b[0mlayers\u001b[0m\u001b[0;34m:\u001b[0m\u001b[0;34m\u001b[0m\u001b[0m\n\u001b[0;32m---> 18\u001b[0;31m             \u001b[0mx\u001b[0m \u001b[0;34m=\u001b[0m \u001b[0mlayer\u001b[0m\u001b[0;34m(\u001b[0m\u001b[0mx\u001b[0m\u001b[0;34m)\u001b[0m\u001b[0;34m\u001b[0m\u001b[0m\n\u001b[0m\u001b[1;32m     19\u001b[0m             \u001b[0mx\u001b[0m \u001b[0;34m=\u001b[0m \u001b[0mF\u001b[0m\u001b[0;34m.\u001b[0m\u001b[0mdropout\u001b[0m\u001b[0;34m(\u001b[0m\u001b[0mx\u001b[0m\u001b[0;34m,\u001b[0m \u001b[0mp\u001b[0m\u001b[0;34m=\u001b[0m\u001b[0;36m0.3\u001b[0m\u001b[0;34m)\u001b[0m\u001b[0;34m\u001b[0m\u001b[0m\n\u001b[1;32m     20\u001b[0m             \u001b[0;31m# Only apply activation if not the last layer\u001b[0m\u001b[0;34m\u001b[0m\u001b[0;34m\u001b[0m\u001b[0m\n",
      "\u001b[0;32m/opt/conda/lib/python3.6/site-packages/torch/nn/modules/module.py\u001b[0m in \u001b[0;36m__call__\u001b[0;34m(self, *input, **kwargs)\u001b[0m\n\u001b[1;32m    489\u001b[0m             \u001b[0mresult\u001b[0m \u001b[0;34m=\u001b[0m \u001b[0mself\u001b[0m\u001b[0;34m.\u001b[0m\u001b[0m_slow_forward\u001b[0m\u001b[0;34m(\u001b[0m\u001b[0;34m*\u001b[0m\u001b[0minput\u001b[0m\u001b[0;34m,\u001b[0m \u001b[0;34m**\u001b[0m\u001b[0mkwargs\u001b[0m\u001b[0;34m)\u001b[0m\u001b[0;34m\u001b[0m\u001b[0m\n\u001b[1;32m    490\u001b[0m         \u001b[0;32melse\u001b[0m\u001b[0;34m:\u001b[0m\u001b[0;34m\u001b[0m\u001b[0m\n\u001b[0;32m--> 491\u001b[0;31m             \u001b[0mresult\u001b[0m \u001b[0;34m=\u001b[0m \u001b[0mself\u001b[0m\u001b[0;34m.\u001b[0m\u001b[0mforward\u001b[0m\u001b[0;34m(\u001b[0m\u001b[0;34m*\u001b[0m\u001b[0minput\u001b[0m\u001b[0;34m,\u001b[0m \u001b[0;34m**\u001b[0m\u001b[0mkwargs\u001b[0m\u001b[0;34m)\u001b[0m\u001b[0;34m\u001b[0m\u001b[0m\n\u001b[0m\u001b[1;32m    492\u001b[0m         \u001b[0;32mfor\u001b[0m \u001b[0mhook\u001b[0m \u001b[0;32min\u001b[0m \u001b[0mself\u001b[0m\u001b[0;34m.\u001b[0m\u001b[0m_forward_hooks\u001b[0m\u001b[0;34m.\u001b[0m\u001b[0mvalues\u001b[0m\u001b[0;34m(\u001b[0m\u001b[0;34m)\u001b[0m\u001b[0;34m:\u001b[0m\u001b[0;34m\u001b[0m\u001b[0m\n\u001b[1;32m    493\u001b[0m             \u001b[0mhook_result\u001b[0m \u001b[0;34m=\u001b[0m \u001b[0mhook\u001b[0m\u001b[0;34m(\u001b[0m\u001b[0mself\u001b[0m\u001b[0;34m,\u001b[0m \u001b[0minput\u001b[0m\u001b[0;34m,\u001b[0m \u001b[0mresult\u001b[0m\u001b[0;34m)\u001b[0m\u001b[0;34m\u001b[0m\u001b[0m\n",
      "\u001b[0;32m/opt/conda/lib/python3.6/site-packages/torch/nn/modules/linear.py\u001b[0m in \u001b[0;36mforward\u001b[0;34m(self, input)\u001b[0m\n\u001b[1;32m     53\u001b[0m \u001b[0;34m\u001b[0m\u001b[0m\n\u001b[1;32m     54\u001b[0m     \u001b[0;32mdef\u001b[0m \u001b[0mforward\u001b[0m\u001b[0;34m(\u001b[0m\u001b[0mself\u001b[0m\u001b[0;34m,\u001b[0m \u001b[0minput\u001b[0m\u001b[0;34m)\u001b[0m\u001b[0;34m:\u001b[0m\u001b[0;34m\u001b[0m\u001b[0m\n\u001b[0;32m---> 55\u001b[0;31m         \u001b[0;32mreturn\u001b[0m \u001b[0mF\u001b[0m\u001b[0;34m.\u001b[0m\u001b[0mlinear\u001b[0m\u001b[0;34m(\u001b[0m\u001b[0minput\u001b[0m\u001b[0;34m,\u001b[0m \u001b[0mself\u001b[0m\u001b[0;34m.\u001b[0m\u001b[0mweight\u001b[0m\u001b[0;34m,\u001b[0m \u001b[0mself\u001b[0m\u001b[0;34m.\u001b[0m\u001b[0mbias\u001b[0m\u001b[0;34m)\u001b[0m\u001b[0;34m\u001b[0m\u001b[0m\n\u001b[0m\u001b[1;32m     56\u001b[0m \u001b[0;34m\u001b[0m\u001b[0m\n\u001b[1;32m     57\u001b[0m     \u001b[0;32mdef\u001b[0m \u001b[0mextra_repr\u001b[0m\u001b[0;34m(\u001b[0m\u001b[0mself\u001b[0m\u001b[0;34m)\u001b[0m\u001b[0;34m:\u001b[0m\u001b[0;34m\u001b[0m\u001b[0m\n",
      "\u001b[0;32m/opt/conda/lib/python3.6/site-packages/torch/nn/functional.py\u001b[0m in \u001b[0;36mlinear\u001b[0;34m(input, weight, bias)\u001b[0m\n\u001b[1;32m    990\u001b[0m     \u001b[0;32mif\u001b[0m \u001b[0minput\u001b[0m\u001b[0;34m.\u001b[0m\u001b[0mdim\u001b[0m\u001b[0;34m(\u001b[0m\u001b[0;34m)\u001b[0m \u001b[0;34m==\u001b[0m \u001b[0;36m2\u001b[0m \u001b[0;32mand\u001b[0m \u001b[0mbias\u001b[0m \u001b[0;32mis\u001b[0m \u001b[0;32mnot\u001b[0m \u001b[0;32mNone\u001b[0m\u001b[0;34m:\u001b[0m\u001b[0;34m\u001b[0m\u001b[0m\n\u001b[1;32m    991\u001b[0m         \u001b[0;31m# fused op is marginally faster\u001b[0m\u001b[0;34m\u001b[0m\u001b[0;34m\u001b[0m\u001b[0m\n\u001b[0;32m--> 992\u001b[0;31m         \u001b[0;32mreturn\u001b[0m \u001b[0mtorch\u001b[0m\u001b[0;34m.\u001b[0m\u001b[0maddmm\u001b[0m\u001b[0;34m(\u001b[0m\u001b[0mbias\u001b[0m\u001b[0;34m,\u001b[0m \u001b[0minput\u001b[0m\u001b[0;34m,\u001b[0m \u001b[0mweight\u001b[0m\u001b[0;34m.\u001b[0m\u001b[0mt\u001b[0m\u001b[0;34m(\u001b[0m\u001b[0;34m)\u001b[0m\u001b[0;34m)\u001b[0m\u001b[0;34m\u001b[0m\u001b[0m\n\u001b[0m\u001b[1;32m    993\u001b[0m \u001b[0;34m\u001b[0m\u001b[0m\n\u001b[1;32m    994\u001b[0m     \u001b[0moutput\u001b[0m \u001b[0;34m=\u001b[0m \u001b[0minput\u001b[0m\u001b[0;34m.\u001b[0m\u001b[0mmatmul\u001b[0m\u001b[0;34m(\u001b[0m\u001b[0mweight\u001b[0m\u001b[0;34m.\u001b[0m\u001b[0mt\u001b[0m\u001b[0;34m(\u001b[0m\u001b[0;34m)\u001b[0m\u001b[0;34m)\u001b[0m\u001b[0;34m\u001b[0m\u001b[0m\n",
      "\u001b[0;31mRuntimeError\u001b[0m: Expected object of type torch.cuda.FloatTensor but found type torch.FloatTensor for argument #4 'mat1'"
     ]
    }
   ],
   "source": [
    "# randomly generated, new latent vectors\n",
    "sample_size=16\n",
    "rand_z = np.random.uniform(-1, 1, size=(sample_size, z_size))\n",
    "rand_z = torch.from_numpy(rand_z).float()\n",
    "\n",
    "G.eval() # eval mode\n",
    "# generated samples\n",
    "rand_images = G(rand_z)\n",
    "\n",
    "# 0 indicates the first set of samples in the passed in list\n",
    "# and we only have one batch of samples, here\n",
    "view_samples(0, [rand_images])"
   ]
  }
 ],
 "metadata": {
  "kernelspec": {
   "display_name": "Python 3",
   "language": "python",
   "name": "python3"
  },
  "language_info": {
   "codemirror_mode": {
    "name": "ipython",
    "version": 3
   },
   "file_extension": ".py",
   "mimetype": "text/x-python",
   "name": "python",
   "nbconvert_exporter": "python",
   "pygments_lexer": "ipython3",
   "version": "3.6.3"
  }
 },
 "nbformat": 4,
 "nbformat_minor": 2
}
