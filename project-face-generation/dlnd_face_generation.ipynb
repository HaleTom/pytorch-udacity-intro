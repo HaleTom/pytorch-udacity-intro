{
 "cells": [
  {
   "cell_type": "markdown",
   "metadata": {},
   "source": [
    "# Face Generation\n",
    "\n",
    "In this project, you'll define and train a DCGAN on a dataset of faces. Your goal is to get a generator network to generate *new* images of faces that look as realistic as possible!\n",
    "\n",
    "The project will be broken down into a series of tasks from **loading in data to defining and training adversarial networks**. At the end of the notebook, you'll be able to visualize the results of your trained Generator to see how it performs; your generated samples should look like fairly realistic faces with small amounts of noise.\n",
    "\n",
    "### Get the Data\n",
    "\n",
    "You'll be using the [CelebFaces Attributes Dataset (CelebA)](http://mmlab.ie.cuhk.edu.hk/projects/CelebA.html) to train your adversarial networks.\n",
    "\n",
    "This dataset is more complex than the number datasets (like MNIST or SVHN) you've been working with, and so, you should prepare to define deeper networks and train them for a longer time to get good results. It is suggested that you utilize a GPU for training.\n",
    "\n",
    "### Pre-processed Data\n",
    "\n",
    "Since the project's main focus is on building the GANs, we've done *some* of the pre-processing for you. Each of the CelebA images has been cropped to remove parts of the image that don't include a face, then resized down to 64x64x3 NumPy images. Some sample data is show below.\n",
    "\n",
    "<img src='assets/processed_face_data.png' width=60% />\n",
    "\n",
    "> If you are working locally, you can download this data [by clicking here](https://s3.amazonaws.com/video.udacity-data.com/topher/2018/November/5be7eb6f_processed-celeba-small/processed-celeba-small.zip)\n",
    "\n",
    "This is a zip file that you'll need to extract in the home directory of this notebook for further loading and processing. After extracting the data, you should be left with a directory of data `processed_celeba_small/`"
   ]
  },
  {
   "cell_type": "code",
   "execution_count": 1,
   "metadata": {},
   "outputs": [],
   "source": [
    "# Inspired by https://stackoverflow.com/a/8856387/5353461\n",
    "import inspect\n",
    "import re\n",
    "\n",
    "def describe(arg):\n",
    "    frame = inspect.currentframe()\n",
    "    callerframeinfo = inspect.getframeinfo(frame.f_back)\n",
    "    try:\n",
    "        context = inspect.getframeinfo(frame.f_back).code_context\n",
    "        caller_lines = ''.join([line.strip() for line in context])\n",
    "        m = re.search(r'describe\\s*\\((.+?)\\)$', caller_lines)\n",
    "        if m:\n",
    "            caller_lines = m.group(1)\n",
    "            position = str(callerframeinfo.filename) + \"@\" + str(callerframeinfo.lineno)\n",
    "\n",
    "            # Add additional info such as array shape or string length\n",
    "            additional = ''\n",
    "            if hasattr(arg, \"shape\"):\n",
    "                additional += \"[shape={}]\".format(arg.shape)\n",
    "            elif hasattr(arg, \"__len__\"):  # shape includes length information\n",
    "                additional += \"[len={}]\".format(len(arg))\n",
    "\n",
    "            # Use str() representation if it is printable\n",
    "            str_arg = str(arg)\n",
    "            str_arg = str_arg if str_arg.isprintable() else repr(arg)\n",
    "\n",
    "            print(position, \"describe(\" + caller_lines + \") = \", end='')\n",
    "            print(arg.__class__.__name__ + \"(\" + str_arg + \")\", additional)\n",
    "        else:\n",
    "            print(\"Describe: couldn't find caller context\")\n",
    "\n",
    "    finally:\n",
    "        del frame\n",
    "        del callerframeinfo"
   ]
  },
  {
   "cell_type": "code",
   "execution_count": 2,
   "metadata": {},
   "outputs": [],
   "source": [
    "# can comment out after executing\n",
    "# !unzip processed_celeba_small.zip"
   ]
  },
  {
   "cell_type": "code",
   "execution_count": 3,
   "metadata": {},
   "outputs": [],
   "source": [
    "data_dir = 'processed_celeba_small/'\n",
    "\n",
    "\"\"\"\n",
    "DON'T MODIFY ANYTHING IN THIS CELL\n",
    "\"\"\"\n",
    "import pickle as pkl\n",
    "import matplotlib.pyplot as plt\n",
    "import numpy as np\n",
    "import problem_unittests as tests\n",
    "#import helper\n",
    "\n",
    "%matplotlib inline"
   ]
  },
  {
   "cell_type": "markdown",
   "metadata": {},
   "source": [
    "## Visualize the CelebA Data\n",
    "\n",
    "The [CelebA](http://mmlab.ie.cuhk.edu.hk/projects/CelebA.html) dataset contains over 200,000 celebrity images with annotations. Since you're going to be generating faces, you won't need the annotations, you'll only need the images. Note that these are color images with [3 color channels (RGB)](https://en.wikipedia.org/wiki/Channel_(digital_image)#RGB_Images) each.\n",
    "\n",
    "### Pre-process and Load the Data\n",
    "\n",
    "Since the project's main focus is on building the GANs, we've done *some* of the pre-processing for you. Each of the CelebA images has been cropped to remove parts of the image that don't include a face, then resized down to 64x64x3 NumPy images. This *pre-processed* dataset is a smaller subset of the very large CelebA data.\n",
    "\n",
    "> There are a few other steps that you'll need to **transform** this data and create a **DataLoader**.\n",
    "\n",
    "#### Exercise: Complete the following `get_dataloader` function, such that it satisfies these requirements:\n",
    "\n",
    "* Your images should be square, Tensor images of size `image_size x image_size` in the x and y dimension.\n",
    "* Your function should return a DataLoader that shuffles and batches these Tensor images.\n",
    "\n",
    "#### ImageFolder\n",
    "\n",
    "To create a dataset given a directory of images, it's recommended that you use PyTorch's [ImageFolder](https://pytorch.org/docs/stable/torchvision/datasets.html#imagefolder) wrapper, with a root directory `processed_celeba_small/` and data transformation passed in."
   ]
  },
  {
   "cell_type": "code",
   "execution_count": 4,
   "metadata": {},
   "outputs": [],
   "source": [
    "# necessary imports\n",
    "import torch\n",
    "from torchvision import datasets\n",
    "from torchvision import transforms\n",
    "\n",
    "torch.manual_seed(0);  # For reproducability"
   ]
  },
  {
   "cell_type": "code",
   "execution_count": 5,
   "metadata": {},
   "outputs": [],
   "source": [
    "def get_dataloader(batch_size, image_size, data_dir='processed_celeba_small/'):\n",
    "    \"\"\"\n",
    "    Batch the neural network data using DataLoader\n",
    "    :param batch_size: The size of each batch; the number of images in a batch\n",
    "    :param img_size: The square size of the image data (x, y)\n",
    "    :param data_dir: Directory where image data is located\n",
    "    :return: DataLoader with batched data\n",
    "    \"\"\"\n",
    "    \n",
    "    transform = transforms.Compose([\n",
    "                                    transforms.Resize(image_size),\n",
    "                                    transforms.CenterCrop(image_size),\n",
    "                                    transforms.ToTensor(),\n",
    "                            #         transforms.Normalize(mean=[0.485, 0.456, 0.406],\n",
    "                            #                               std=[0.229, 0.224, 0.225]),        \n",
    "                                   ])\n",
    "    \n",
    "    dataset = datasets.ImageFolder(data_dir, transform=transform)\n",
    "    loader = torch.utils.data.DataLoader(dataset, batch_size=batch_size, shuffle=True)\n",
    "\n",
    "    return loader"
   ]
  },
  {
   "cell_type": "markdown",
   "metadata": {},
   "source": [
    "## Create a DataLoader\n",
    "\n",
    "#### Exercise: Create a DataLoader `celeba_train_loader` with appropriate hyperparameters.\n",
    "\n",
    "Call the above function and create a dataloader to view images. \n",
    "* You can decide on any reasonable `batch_size` parameter\n",
    "* Your `image_size` **must be** `32`. Resizing the data to a smaller size will make for faster training, while still creating convincing images of faces!"
   ]
  },
  {
   "cell_type": "code",
   "execution_count": 6,
   "metadata": {},
   "outputs": [],
   "source": [
    "img_size = 32  # Size of both x and y dimensions\n",
    "\n",
    "# Define function hyperparameters\n",
    "batch_size = 16\n",
    "image_channels = 3\n",
    "\n",
    "\"\"\"\n",
    "DON'T MODIFY ANYTHING IN THIS CELL THAT IS BELOW THIS LINE\n",
    "\"\"\"\n",
    "# Call your function and get a dataloader\n",
    "celeba_train_loader = get_dataloader(batch_size, img_size)"
   ]
  },
  {
   "cell_type": "markdown",
   "metadata": {},
   "source": [
    "Next, you can view some images! You should seen square images of somewhat-centered faces.\n",
    "\n",
    "Note: You'll need to convert the Tensor images into a NumPy type and transpose the dimensions to correctly display an image, suggested `imshow` code is below, but it may not be perfect."
   ]
  },
  {
   "cell_type": "code",
   "execution_count": 7,
   "metadata": {},
   "outputs": [
    {
     "data": {
      "image/png": "[encoded data removed]",
      "text/plain": [
       "<Figure size 1152x288 with 16 Axes>"
      ]
     },
     "metadata": {
      "image/png": {
       "height": 231,
       "width": 910
      }
     },
     "output_type": "display_data"
    }
   ],
   "source": [
    "# helper display function\n",
    "def imshow(img):\n",
    "    npimg = img.numpy()\n",
    "    plt.imshow(np.transpose(npimg, (1, 2, 0)))\n",
    "\n",
    "\"\"\"\n",
    "DON'T MODIFY ANYTHING IN THIS CELL THAT IS BELOW THIS LINE\n",
    "\"\"\"\n",
    "# obtain one batch of training images\n",
    "dataiter = iter(celeba_train_loader)\n",
    "images, _ = dataiter.next() # _ for no labels\n",
    "\n",
    "# plot the images in the batch, along with the corresponding labels\n",
    "fig = plt.figure(figsize=(16, 4))\n",
    "plot_size=16\n",
    "for idx in np.arange(plot_size):\n",
    "    ax = fig.add_subplot(2, plot_size/2, idx+1, xticks=[], yticks=[])\n",
    "    imshow(images[idx])"
   ]
  },
  {
   "cell_type": "markdown",
   "metadata": {},
   "source": [
    "### Exercise: Pre-process your image data and scale it to a pixel range of -1 to 1\n",
    "\n",
    "You need to do a bit of pre-processing; you know that the output of a `tanh` activated generator will contain pixel values in a range from -1 to 1, and so, we need to rescale our training images to a range of -1 to 1. (Right now, they are in a range from 0-1.)"
   ]
  },
  {
   "cell_type": "code",
   "execution_count": 8,
   "metadata": {},
   "outputs": [],
   "source": [
    "# TODO: Complete the scale function\n",
    "def scale(x, feature_range=(-1, 1)):\n",
    "    ''' Scale takes in an image x and returns that image, scaled\n",
    "       with a feature_range of pixel values from -1 to 1. \n",
    "       This function assumes that the input x is already scaled from 0-1.'''\n",
    "    # assume x is scaled to (0, 1)\n",
    "    \n",
    "    min, max = feature_range\n",
    "    \n",
    "    x = min + x * (max - min)\n",
    "    return x"
   ]
  },
  {
   "cell_type": "code",
   "execution_count": 9,
   "metadata": {},
   "outputs": [
    {
     "name": "stdout",
     "output_type": "stream",
     "text": [
      "Min:  tensor(-1.)\n",
      "Max:  tensor(0.9373)\n"
     ]
    }
   ],
   "source": [
    "\"\"\"\n",
    "DON'T MODIFY ANYTHING IN THIS CELL THAT IS BELOW THIS LINE\n",
    "\"\"\"\n",
    "# check scaled range\n",
    "# should be close to -1 to 1\n",
    "img = images[0]\n",
    "scaled_img = scale(img)\n",
    "\n",
    "print('Min: ', scaled_img.min())\n",
    "print('Max: ', scaled_img.max())"
   ]
  },
  {
   "cell_type": "markdown",
   "metadata": {},
   "source": [
    "---\n",
    "# Define the Model\n",
    "\n",
    "A GAN is comprised of two adversarial networks, a discriminator and a generator.\n",
    "\n",
    "## Discriminator\n",
    "\n",
    "Your first task will be to define the discriminator. This is a convolutional classifier like you've built before, only without any maxpooling layers. To deal with this complex data, it's suggested you use a deep network with **normalization**. You are also allowed to create any helper functions that may be useful.\n",
    "\n",
    "#### Exercise: Complete the Discriminator class\n",
    "* The inputs to the discriminator are 32x32x3 tensor images\n",
    "* The output should be a single value that will indicate whether a given image is real or fake\n"
   ]
  },
  {
   "cell_type": "code",
   "execution_count": 10,
   "metadata": {},
   "outputs": [],
   "source": [
    "import torch.nn as nn\n",
    "import torch.nn.functional as F"
   ]
  },
  {
   "cell_type": "code",
   "execution_count": 11,
   "metadata": {},
   "outputs": [],
   "source": [
    "# helper conv function\n",
    "def conv_block(in_channels, out_channels, kernel_size=4, stride=2, padding=1, batch_norm=True, transpose=False):\n",
    "    \"\"\"\n",
    "    Creates a convolutional block, with optional batch normalization.\n",
    "    :param in_channels:  input volume depth\n",
    "    :param out_channels: output volume depth\n",
    "    :param batch_norm:   False for no batch norm\n",
    "    :param transpose:    True for fractional convolution\n",
    "    \"\"\"\n",
    "\n",
    "    layers = []\n",
    "    \n",
    "    if transpose:\n",
    "        conv_module = nn.ConvTranspose2d\n",
    "    else:\n",
    "        conv_module = nn.Conv2d\n",
    "\n",
    "    conv_layer = conv_module(in_channels, out_channels, \n",
    "                             kernel_size, stride, padding, bias=(not batch_norm))\n",
    "    \n",
    "    # append conv layer\n",
    "    layers.append(conv_layer)\n",
    "\n",
    "    if batch_norm:\n",
    "        # append batchnorm layer\n",
    "        layers.append(nn.BatchNorm2d(out_channels))\n",
    "     \n",
    "    # using Sequential container\n",
    "    return nn.Sequential(*layers)"
   ]
  },
  {
   "cell_type": "code",
   "execution_count": 12,
   "metadata": {},
   "outputs": [
    {
     "name": "stdout",
     "output_type": "stream",
     "text": [
      "Tests Passed\n"
     ]
    }
   ],
   "source": [
    "class Discriminator(nn.Module):\n",
    "   \n",
    "    def __init__(self, initial_channels=32):\n",
    "        \"\"\"\n",
    "        Initialize the Discriminator Module\n",
    "        :param initial_channels: The depth of the first convolutional layer\n",
    "        \n",
    "        initial_channels depth is progressively doubled by each following layer\n",
    "        No batch orm on the first layer\n",
    "        \"\"\"\n",
    "        super(Discriminator, self).__init__()\n",
    "\n",
    "        # Usage of dropout in convolutional GANs with batch norm?\n",
    "        # https://stats.stackexchange.com/q/401962/162527\n",
    "        # self.dropout = nn.Dropout(p=0.3) \n",
    "        \n",
    "        num_conv_layers = 3\n",
    "        \n",
    "        # Get # of channels of each conv block\n",
    "        conv_channels = [initial_channels * 2**scaling for scaling in (range(num_conv_layers))]\n",
    "        \n",
    "        self.conv_layers = nn.ModuleList()\n",
    "        self.conv_layers.append(conv_block(image_channels, conv_channels[0], batch_norm=False))\n",
    "        for ch_in, ch_out in zip(conv_channels[:-1], conv_channels[1:]):  \n",
    "            self.conv_layers.append(conv_block(ch_in, ch_out))\n",
    "\n",
    "        self.conv_out_volume = conv_channels[-1] * (img_size // 2**(num_conv_layers)) ** 2    \n",
    "        self.fc = nn.Linear(self.conv_out_volume, 1)\n",
    "  \n",
    "    def forward(self, x):\n",
    "        \"\"\"\n",
    "        Forward propagation of the neural network\n",
    "        :param x: The input to the neural network     \n",
    "        :return: Discriminator logits; the output of the neural network\n",
    "        \"\"\"\n",
    "\n",
    "        batches = x.shape[0]\n",
    "        \n",
    "        for conv in self.conv_layers:\n",
    "            x = conv(x)\n",
    "            x = F.leaky_relu(x, negative_slope=0.2)\n",
    "        \n",
    "        x = x.reshape(batches, -1)\n",
    "        return self.fc(x)  # No sigmoid applied\n",
    "\n",
    "    \n",
    "# Test\n",
    "d = Discriminator()\n",
    "# print(d)\n",
    "o = d(torch.rand(10, 3, 32, 32));\n",
    "# describe(o.shape)\n",
    "\n",
    "    \n",
    "\"\"\"\n",
    "DON'T MODIFY ANYTHING IN THIS CELL THAT IS BELOW THIS LINE\n",
    "\"\"\"\n",
    "tests.test_discriminator(Discriminator)"
   ]
  },
  {
   "cell_type": "markdown",
   "metadata": {},
   "source": [
    "## Generator\n",
    "\n",
    "The generator should upsample an input and generate a *new* image of the same size as our training data `32x32x3`. This should be mostly transpose convolutional layers with normalization applied to the outputs.\n",
    "\n",
    "#### Exercise: Complete the Generator class\n",
    "* The inputs to the generator are vectors of some length `z_size`\n",
    "* The output should be a image of shape `32x32x3`"
   ]
  },
  {
   "cell_type": "code",
   "execution_count": 13,
   "metadata": {},
   "outputs": [
    {
     "name": "stdout",
     "output_type": "stream",
     "text": [
      "Tests Passed\n"
     ]
    }
   ],
   "source": [
    "class Generator(nn.Module):\n",
    "    \n",
    "    def __init__(self, z_size, out_dim=32):\n",
    "        \"\"\"\n",
    "        Initialize the Generator Module\n",
    "        :param z_size: The length of the input latent vector, z\n",
    "        :param out_dim: The layers of the last, *non-output* convolutional layer\n",
    "        \"\"\"\n",
    "\n",
    "        super(Generator, self).__init__()\n",
    "        \n",
    "        self.initial_dim = 4  # Size of both x and y dimension of first conv volume \n",
    "        \n",
    "        num_conv_layers = 3  # Includes the final layer which outputs image_channels # of channels       \n",
    "        self.initial_channels = out_dim * 2**(num_conv_layers-1)\n",
    "        self.first_conv_volume = self.initial_dim**2 * self.initial_channels\n",
    "        \n",
    "        # Convert latent space to small spatial extent convolutional representation with many feature maps\n",
    "        self.fc = nn.Linear(z_size, self.first_conv_volume)\n",
    "        \n",
    "        # Get # of channels of *non-output* conv blocks\n",
    "        conv_channels = [out_dim * 2**scaling for scaling in reversed(range(num_conv_layers))]\n",
    "        \n",
    "        self.conv_layers = nn.ModuleList()\n",
    "        for ch_in, ch_out in zip(conv_channels[:-1], conv_channels[1:]):  \n",
    "            self.conv_layers.append(conv_block(ch_in, ch_out, transpose=True))\n",
    "\n",
    "        # Output conv layer has no batch norm\n",
    "        self.conv_layers.append(conv_block(conv_channels[-1], image_channels, batch_norm=False, transpose=True))\n",
    "            \n",
    "    def forward(self, x):\n",
    "        \"\"\"\n",
    "        Forward propagation of the neural network\n",
    "        :param x: The input to the neural network     \n",
    "        :return: A 32x32x3 Tensor image as output\n",
    "        \"\"\"\n",
    "\n",
    "        x = self.fc(x)\n",
    "        x = x.reshape(-1, self.initial_channels, self.initial_dim, self.initial_dim)\n",
    "        for conv_layer in self.conv_layers[:-1]:  # All but last conv block\n",
    "            x = conv_layer(x)\n",
    "            x = F.leaky_relu(x, negative_slope=0.2)\n",
    "    \n",
    "        x = self.conv_layers[-1](x)  # Final layer\n",
    "        return torch.tanh(x)\n",
    "    \n",
    "# Test\n",
    "g = Generator(100)\n",
    "out = g(torch.rand(10, 100))\n",
    "# print(g)\n",
    "# describe(out.shape)\n",
    "\n",
    "\"\"\"\n",
    "DON'T MODIFY ANYTHING IN THIS CELL THAT IS BELOW THIS LINE\n",
    "\"\"\"\n",
    "tests.test_generator(Generator)"
   ]
  },
  {
   "cell_type": "markdown",
   "metadata": {},
   "source": [
    "## Initialize the weights of your networks\n",
    "\n",
    "To help your models converge, you should initialize the weights of the convolutional and linear layers in your model. From reading the [original DCGAN paper](https://arxiv.org/pdf/1511.06434.pdf), they say:\n",
    "> All weights were initialized from a zero-centered Normal distribution with standard deviation 0.02.\n",
    "\n",
    "So, your next task will be to define a weight initialization function that does just this!\n",
    "\n",
    "You can refer back to the lesson on weight initialization or even consult existing model code, such as that from [the `networks.py` file in CycleGAN Github repository](https://github.com/junyanz/pytorch-CycleGAN-and-pix2pix/blob/master/models/networks.py) to help you complete this function.\n",
    "\n",
    "#### Exercise: Complete the weight initialization function\n",
    "\n",
    "* This should initialize only **convolutional** and **linear** layers\n",
    "* Initialize the weights to a normal distribution, centered around 0, with a standard deviation of 0.02.\n",
    "* The bias terms, if they exist, may be left alone or set to 0."
   ]
  },
  {
   "cell_type": "code",
   "execution_count": 14,
   "metadata": {},
   "outputs": [],
   "source": [
    "from torch.nn import init\n",
    "\n",
    "def weights_init_normal(m, mean=0, std=0.02):\n",
    "    \"\"\"\n",
    "    Applies initial weights to certain layers in a model .\n",
    "    The weights are taken from a normal distribution \n",
    "    with mean = 0, std dev = 0.02.\n",
    "    :param m: A module or layer in a network    \n",
    "    \"\"\"\n",
    "\n",
    "    classname = m.__class__.__name__\n",
    "    \n",
    "    if hasattr(m, 'weight') and ('Conv' in classname or 'Linear' in classname):\n",
    "        init.normal_(m.weight.data, mean, std)\n",
    "        if hasattr(m, 'bias') and m.bias is not None:\n",
    "            init.constant_(m.bias.data, 0.0)\n",
    "    elif 'BatchNorm2d' in classname:\n",
    "        init.normal_(m.weight.data, 1.0, std)\n",
    "        init.constant_(m.bias.data, 0.0)\n",
    "\n",
    "g.apply(weights_init_normal);  # apply weights_init_normal function"
   ]
  },
  {
   "cell_type": "markdown",
   "metadata": {
    "collapsed": true
   },
   "source": [
    "## Build complete network\n",
    "\n",
    "Define your models' hyperparameters and instantiate the discriminator and generator from the classes defined above. Make sure you've passed in the correct input arguments."
   ]
  },
  {
   "cell_type": "code",
   "execution_count": 15,
   "metadata": {},
   "outputs": [],
   "source": [
    "\"\"\"\n",
    "DON'T MODIFY ANYTHING IN THIS CELL THAT IS BELOW THIS LINE\n",
    "\"\"\"\n",
    "def build_network(d_conv_dim, g_conv_dim, z_size, verbose=True):\n",
    "    # define discriminator and generator\n",
    "    D = Discriminator(d_conv_dim)\n",
    "    G = Generator(z_size=z_size, out_dim=g_conv_dim)\n",
    "\n",
    "    # initialize model weights\n",
    "    D.apply(weights_init_normal)\n",
    "    G.apply(weights_init_normal)\n",
    "\n",
    "    if verbose:\n",
    "        print(D)\n",
    "        print()\n",
    "        print(G)\n",
    "    \n",
    "    return D, G"
   ]
  },
  {
   "cell_type": "markdown",
   "metadata": {},
   "source": [
    "#### Exercise: Define model hyperparameters"
   ]
  },
  {
   "cell_type": "code",
   "execution_count": 16,
   "metadata": {},
   "outputs": [
    {
     "name": "stdout",
     "output_type": "stream",
     "text": [
      "Discriminator(\n",
      "  (conv_layers): ModuleList(\n",
      "    (0): Sequential(\n",
      "      (0): Conv2d(3, 32, kernel_size=(4, 4), stride=(2, 2), padding=(1, 1))\n",
      "    )\n",
      "    (1): Sequential(\n",
      "      (0): Conv2d(32, 64, kernel_size=(4, 4), stride=(2, 2), padding=(1, 1), bias=False)\n",
      "      (1): BatchNorm2d(64, eps=1e-05, momentum=0.1, affine=True, track_running_stats=True)\n",
      "    )\n",
      "    (2): Sequential(\n",
      "      (0): Conv2d(64, 128, kernel_size=(4, 4), stride=(2, 2), padding=(1, 1), bias=False)\n",
      "      (1): BatchNorm2d(128, eps=1e-05, momentum=0.1, affine=True, track_running_stats=True)\n",
      "    )\n",
      "  )\n",
      "  (fc): Linear(in_features=2048, out_features=1, bias=True)\n",
      ")\n",
      "\n",
      "Generator(\n",
      "  (fc): Linear(in_features=100, out_features=2048, bias=True)\n",
      "  (conv_layers): ModuleList(\n",
      "    (0): Sequential(\n",
      "      (0): ConvTranspose2d(128, 64, kernel_size=(4, 4), stride=(2, 2), padding=(1, 1), bias=False)\n",
      "      (1): BatchNorm2d(64, eps=1e-05, momentum=0.1, affine=True, track_running_stats=True)\n",
      "    )\n",
      "    (1): Sequential(\n",
      "      (0): ConvTranspose2d(64, 32, kernel_size=(4, 4), stride=(2, 2), padding=(1, 1), bias=False)\n",
      "      (1): BatchNorm2d(32, eps=1e-05, momentum=0.1, affine=True, track_running_stats=True)\n",
      "    )\n",
      "    (2): Sequential(\n",
      "      (0): ConvTranspose2d(32, 3, kernel_size=(4, 4), stride=(2, 2), padding=(1, 1))\n",
      "    )\n",
      "  )\n",
      ")\n"
     ]
    }
   ],
   "source": [
    "# Define model hyperparams\n",
    "d_conv_dim = 32\n",
    "g_conv_dim = 32\n",
    "z_size = 100\n",
    "\n",
    "\"\"\"\n",
    "DON'T MODIFY ANYTHING IN THIS CELL THAT IS BELOW THIS LINE\n",
    "\"\"\"\n",
    "D, G = build_network(d_conv_dim, g_conv_dim, z_size)"
   ]
  },
  {
   "cell_type": "markdown",
   "metadata": {},
   "source": [
    "### Training on GPU\n",
    "\n",
    "Check if you can train on GPU. Here, we'll set this as a boolean variable `train_on_gpu`. Later, you'll be responsible for making sure that \n",
    ">* Models,\n",
    "* Model inputs, and\n",
    "* Loss function arguments\n",
    "\n",
    "Are moved to GPU, where appropriate."
   ]
  },
  {
   "cell_type": "code",
   "execution_count": 17,
   "metadata": {},
   "outputs": [
    {
     "name": "stdout",
     "output_type": "stream",
     "text": [
      "No GPU found. Please use a GPU to train your neural network.\n"
     ]
    }
   ],
   "source": [
    "\"\"\"\n",
    "DON'T MODIFY ANYTHING IN THIS CELL\n",
    "\"\"\"\n",
    "import torch\n",
    "\n",
    "# Check for a GPU\n",
    "train_on_gpu = torch.cuda.is_available()\n",
    "if not train_on_gpu:\n",
    "    print('No GPU found. Please use a GPU to train your neural network.')\n",
    "else:\n",
    "    print('Training on GPU!')\n",
    "    \n",
    "device = 'gpu' if torch.cuda.is_available() else 'cpu'\n",
    "\n",
    "D.to(device)\n",
    "G.to(device);"
   ]
  },
  {
   "cell_type": "markdown",
   "metadata": {},
   "source": [
    "---\n",
    "## Discriminator and Generator Losses\n",
    "\n",
    "Now we need to calculate the losses for both types of adversarial networks.\n",
    "\n",
    "### Discriminator Losses\n",
    "\n",
    "> * For the discriminator, the total loss is the sum of the losses for real and fake images, `d_loss = d_real_loss + d_fake_loss`. \n",
    "* Remember that we want the discriminator to output 1 for real images and 0 for fake images, so we need to set up the losses to reflect that.\n",
    "\n",
    "\n",
    "### Generator Loss\n",
    "\n",
    "The generator loss will look similar only with flipped labels. The generator's goal is to get the discriminator to *think* its generated images are *real*.\n",
    "\n",
    "#### Exercise: Complete real and fake loss functions\n",
    "\n",
    "**You may choose to use either cross entropy or a least squares error loss to complete the following `real_loss` and `fake_loss` functions.**"
   ]
  },
  {
   "cell_type": "code",
   "execution_count": 18,
   "metadata": {},
   "outputs": [],
   "source": [
    "def real_loss(D_out, smooth=False):\n",
    "    '''Calculates how close discriminator outputs are to being real.\n",
    "   param, D_out: discriminator logits\n",
    "   param, smooth: value to assign to labels, or 0.9 if True\n",
    "   return: real loss'''\n",
    "\n",
    "    batch_size = D_out.shape[0]\n",
    "    # label smoothing\n",
    "    if smooth:  # smooth, real labels = 0.9 or as given by smooth parameter\n",
    "        labels = torch.ones(batch_size)*0.9\n",
    "    else:\n",
    "        labels = torch.ones(batch_size) # real labels = 1\n",
    "    # move labels to GPU if available     \n",
    "    if train_on_gpu:\n",
    "        labels = labels.cuda()\n",
    "    # binary cross entropy with logits loss\n",
    "    criterion = nn.BCEWithLogitsLoss()\n",
    "    # calculate loss\n",
    "    loss = criterion(D_out.squeeze(), labels)\n",
    "    return loss\n",
    "\n",
    "def fake_loss(D_out):\n",
    "    '''Calculates how close discriminator outputs are to being fake.\n",
    "   param, D_out: discriminator logits\n",
    "   return: fake loss'''\n",
    "\n",
    "    batch_size = D_out.shape[0]\n",
    "    labels = torch.zeros(batch_size) # fake labels = 0\n",
    "    if train_on_gpu:\n",
    "        labels = labels.cuda()\n",
    "    criterion = nn.BCEWithLogitsLoss()\n",
    "    # calculate loss\n",
    "    loss = criterion(D_out.squeeze(), labels)\n",
    "    return loss"
   ]
  },
  {
   "cell_type": "markdown",
   "metadata": {},
   "source": [
    "## Optimizers\n",
    "\n",
    "#### Exercise: Define optimizers for your Discriminator (D) and Generator (G)\n",
    "\n",
    "Define optimizers for your models with appropriate hyperparameters."
   ]
  },
  {
   "cell_type": "code",
   "execution_count": 19,
   "metadata": {},
   "outputs": [],
   "source": [
    "import torch.optim as optim\n",
    "\n",
    "# I used the hyperparameters from the DCGAN paper\n",
    "lr=0.0002\n",
    "betas=(0.1, 0.999)\n",
    "\n",
    "d_optimizer = optim.Adam(D.parameters()) #, lr=lr) # , betas=betas)\n",
    "g_optimizer = optim.Adam(G.parameters(), lr=lr, betas=betas)"
   ]
  },
  {
   "cell_type": "markdown",
   "metadata": {},
   "source": [
    "---\n",
    "## Training\n",
    "\n",
    "Training will involve alternating between training the discriminator and the generator. You'll use your functions `real_loss` and `fake_loss` to help you calculate the discriminator losses.\n",
    "\n",
    "* You should train the discriminator by alternating on real and fake images\n",
    "* Then the generator, which tries to trick the discriminator and should have an opposing loss function\n",
    "\n",
    "\n",
    "#### Saving Samples\n",
    "\n",
    "You've been given some code to print out some loss statistics and save some generated \"fake\" samples."
   ]
  },
  {
   "cell_type": "markdown",
   "metadata": {},
   "source": [
    "#### Exercise: Complete the training function\n",
    "\n",
    "Keep in mind that, if you've moved your models to GPU, you'll also have to move any model inputs to GPU."
   ]
  },
  {
   "cell_type": "code",
   "execution_count": 20,
   "metadata": {},
   "outputs": [],
   "source": [
    "# Keep track of loss and generated, \"fake\" samples\n",
    "# Global so that training can be interrupted and stats still obtained\n",
    "samples = []\n",
    "losses = []\n",
    "\n",
    "def train(D, G, n_epochs, print_every=50):\n",
    "    '''Trains adversarial networks for some number of epochs\n",
    "       param, D: the discriminator network\n",
    "       param, G: the generator network\n",
    "       param, n_epochs: number of epochs to train for\n",
    "       param, print_every: when to print and record the models' losses\n",
    "       return: D and G losses'''\n",
    "    \n",
    "    # Get some fixed data for sampling. These are images that are held\n",
    "    # constant throughout training, and allow us to inspect the model's performance\n",
    "    sample_size = 16\n",
    "    fixed_z = torch.Tensor(sample_size, z_size).uniform_(-1, 1).to(device)\n",
    "\n",
    "    printings = 0  ########## for debug\n",
    "    # epoch training loop\n",
    "    for epoch in range(n_epochs):\n",
    "\n",
    "        # batch training loop\n",
    "        for batch_i, (real_images, _) in enumerate(celeba_train_loader):\n",
    "\n",
    "            batch_size = real_images.shape[0]\n",
    "            real_images = scale(real_images.to(device))\n",
    "\n",
    "            # =============\n",
    "            # Descriminator\n",
    "            # =============\n",
    "            d_optimizer.zero_grad()\n",
    "            \n",
    "            real_losses = real_loss(D(real_images)) #, smooth=True)\n",
    "            \n",
    "            z = torch.Tensor(sample_size, z_size).uniform_(-1, 1).to(device)\n",
    "            fake_images = G(z)\n",
    "            fake_losses = fake_loss(D(fake_images))\n",
    "            \n",
    "            d_loss = real_losses + fake_losses\n",
    "\n",
    "            # Backprop\n",
    "            d_loss.backward()\n",
    "            d_optimizer.step()\n",
    "\n",
    "            # =============\n",
    "            # Generator\n",
    "            # =============\n",
    "            g_optimizer.zero_grad()\n",
    "            \n",
    "            z = torch.Tensor(sample_size, z_size).uniform_(-1, 1).to(device)\n",
    "            fake_images = G(z)\n",
    "            \n",
    "            g_loss = real_loss(D(fake_images), smooth=False)\n",
    "            \n",
    "            # Backprop\n",
    "            g_loss.backward()\n",
    "            g_optimizer.step()\n",
    "\n",
    "            \n",
    "            # ===============================================\n",
    "            #              END OF YOUR CODE\n",
    "            # ===============================================\n",
    "\n",
    "            # Print some loss stats\n",
    "            if batch_i % print_every == 0:\n",
    "                printings += 1\n",
    "                # append discriminator loss and generator loss\n",
    "                losses.append((d_loss.item(), g_loss.item()))\n",
    "                # print discriminator and generator loss\n",
    "#                 print('Epoch [{:5d}/{:5d}] | d_loss: {:6.4f} | g_loss: {:6.4f}'.format(\n",
    "#                         epoch+1, n_epochs, d_loss.item(), g_loss.item()))\n",
    "                print('{:3d} Epoch [{:5d}/{:5d}] | d_loss: {:6.4f} | g_loss: {:6.4f}'.format(\n",
    "                    printings, epoch+1, n_epochs, d_loss.item(), g_loss.item()))\n",
    "\n",
    "\n",
    "        ## AFTER EACH EPOCH##    \n",
    "        # this code assumes your generator is named G, feel free to change the name\n",
    "        # generate and save sample, fake images\n",
    "        G.eval() # for generating samples\n",
    "        samples_z = G(fixed_z)\n",
    "        samples.append(samples_z)\n",
    "        G.train() # back to training mode\n",
    "\n",
    "    # finally return losses\n",
    "    return losses"
   ]
  },
  {
   "cell_type": "markdown",
   "metadata": {},
   "source": [
    "Set your number of training epochs and train your GAN!"
   ]
  },
  {
   "cell_type": "code",
   "execution_count": 21,
   "metadata": {},
   "outputs": [
    {
     "name": "stdout",
     "output_type": "stream",
     "text": [
      "  1 Epoch [    1/   20] | d_loss: 1.6866 | g_loss: 1.4404\n",
      "  2 Epoch [    1/   20] | d_loss: 0.4329 | g_loss: 8.4170\n",
      "  3 Epoch [    1/   20] | d_loss: 0.4958 | g_loss: 1.9509\n",
      "  4 Epoch [    1/   20] | d_loss: 0.4348 | g_loss: 2.8834\n",
      "  5 Epoch [    1/   20] | d_loss: 0.5459 | g_loss: 4.8292\n",
      "  6 Epoch [    1/   20] | d_loss: 0.6212 | g_loss: 3.2773\n",
      "  7 Epoch [    1/   20] | d_loss: 0.7051 | g_loss: 4.2776\n",
      "  8 Epoch [    1/   20] | d_loss: 0.8588 | g_loss: 3.0161\n",
      "  9 Epoch [    1/   20] | d_loss: 0.5265 | g_loss: 2.2204\n",
      " 10 Epoch [    1/   20] | d_loss: 0.7517 | g_loss: 1.4967\n",
      " 11 Epoch [    1/   20] | d_loss: 0.8487 | g_loss: 2.8202\n",
      " 12 Epoch [    1/   20] | d_loss: 1.4672 | g_loss: 1.8397\n",
      " 13 Epoch [    1/   20] | d_loss: 1.5011 | g_loss: 0.7468\n",
      " 14 Epoch [    1/   20] | d_loss: 1.3958 | g_loss: 1.2777\n",
      " 15 Epoch [    1/   20] | d_loss: 1.3494 | g_loss: 1.7179\n",
      " 16 Epoch [    1/   20] | d_loss: 1.3649 | g_loss: 2.4528\n",
      " 17 Epoch [    1/   20] | d_loss: 1.2028 | g_loss: 2.2833\n",
      " 18 Epoch [    1/   20] | d_loss: 1.1236 | g_loss: 1.1968\n",
      " 19 Epoch [    1/   20] | d_loss: 1.7109 | g_loss: 0.7862\n",
      " 20 Epoch [    1/   20] | d_loss: 1.5171 | g_loss: 1.4530\n",
      " 21 Epoch [    1/   20] | d_loss: 1.5509 | g_loss: 1.0398\n",
      " 22 Epoch [    1/   20] | d_loss: 1.3083 | g_loss: 0.8378\n",
      " 23 Epoch [    1/   20] | d_loss: 1.7109 | g_loss: 1.5175\n",
      " 24 Epoch [    1/   20] | d_loss: 1.7377 | g_loss: 1.2982\n",
      " 25 Epoch [    1/   20] | d_loss: 1.5446 | g_loss: 1.1907\n",
      " 26 Epoch [    1/   20] | d_loss: 1.8771 | g_loss: 0.6268\n",
      " 27 Epoch [    1/   20] | d_loss: 1.3476 | g_loss: 1.1644\n",
      " 28 Epoch [    1/   20] | d_loss: 1.3333 | g_loss: 0.8680\n",
      " 29 Epoch [    1/   20] | d_loss: 1.2855 | g_loss: 0.8741\n",
      " 30 Epoch [    1/   20] | d_loss: 1.3616 | g_loss: 1.1141\n",
      " 31 Epoch [    1/   20] | d_loss: 1.4070 | g_loss: 1.2025\n",
      " 32 Epoch [    1/   20] | d_loss: 1.4694 | g_loss: 0.9281\n",
      " 33 Epoch [    1/   20] | d_loss: 1.4221 | g_loss: 1.3683\n",
      " 34 Epoch [    1/   20] | d_loss: 1.3681 | g_loss: 0.8803\n",
      " 35 Epoch [    1/   20] | d_loss: 1.0793 | g_loss: 1.0499\n",
      " 36 Epoch [    1/   20] | d_loss: 1.3673 | g_loss: 1.1145\n",
      " 37 Epoch [    1/   20] | d_loss: 1.3855 | g_loss: 1.2349\n",
      " 38 Epoch [    1/   20] | d_loss: 1.4065 | g_loss: 0.6028\n",
      " 39 Epoch [    1/   20] | d_loss: 1.4665 | g_loss: 0.9463\n",
      " 40 Epoch [    1/   20] | d_loss: 1.5568 | g_loss: 0.9791\n",
      " 41 Epoch [    1/   20] | d_loss: 1.1925 | g_loss: 1.1883\n",
      " 42 Epoch [    1/   20] | d_loss: 1.4095 | g_loss: 0.8082\n",
      " 43 Epoch [    1/   20] | d_loss: 1.3583 | g_loss: 1.0187\n",
      " 44 Epoch [    1/   20] | d_loss: 1.4611 | g_loss: 1.1259\n",
      " 45 Epoch [    1/   20] | d_loss: 1.3518 | g_loss: 0.9244\n",
      " 46 Epoch [    1/   20] | d_loss: 1.3353 | g_loss: 0.7039\n",
      " 47 Epoch [    1/   20] | d_loss: 1.3883 | g_loss: 1.0684\n",
      " 48 Epoch [    1/   20] | d_loss: 1.4213 | g_loss: 1.2463\n",
      " 49 Epoch [    1/   20] | d_loss: 1.4660 | g_loss: 0.6810\n",
      " 50 Epoch [    1/   20] | d_loss: 1.3637 | g_loss: 0.9044\n",
      " 51 Epoch [    1/   20] | d_loss: 1.3210 | g_loss: 0.8089\n",
      " 52 Epoch [    1/   20] | d_loss: 1.5299 | g_loss: 1.1055\n",
      " 53 Epoch [    1/   20] | d_loss: 1.4591 | g_loss: 0.9427\n",
      " 54 Epoch [    1/   20] | d_loss: 1.2890 | g_loss: 0.9337\n",
      " 55 Epoch [    1/   20] | d_loss: 1.3617 | g_loss: 0.8745\n",
      " 56 Epoch [    1/   20] | d_loss: 1.5715 | g_loss: 1.1615\n",
      " 57 Epoch [    1/   20] | d_loss: 1.3887 | g_loss: 1.0956\n",
      " 58 Epoch [    1/   20] | d_loss: 1.5156 | g_loss: 1.0099\n",
      " 59 Epoch [    1/   20] | d_loss: 1.3897 | g_loss: 0.8850\n",
      " 60 Epoch [    1/   20] | d_loss: 1.4181 | g_loss: 0.8537\n",
      " 61 Epoch [    1/   20] | d_loss: 1.4007 | g_loss: 0.8310\n",
      " 62 Epoch [    1/   20] | d_loss: 1.3881 | g_loss: 1.0779\n",
      " 63 Epoch [    1/   20] | d_loss: 1.4883 | g_loss: 0.8956\n",
      " 64 Epoch [    1/   20] | d_loss: 1.4108 | g_loss: 0.9121\n",
      " 65 Epoch [    1/   20] | d_loss: 1.4875 | g_loss: 0.8948\n",
      " 66 Epoch [    1/   20] | d_loss: 1.3656 | g_loss: 0.8064\n",
      " 67 Epoch [    1/   20] | d_loss: 1.3713 | g_loss: 0.8094\n",
      " 68 Epoch [    1/   20] | d_loss: 1.3329 | g_loss: 0.9181\n"
     ]
    },
    {
     "ename": "KeyboardInterrupt",
     "evalue": "",
     "output_type": "error",
     "traceback": [
      "\u001b[0;31m---------------------------------------------------------------------------\u001b[0m",
      "\u001b[0;31mKeyboardInterrupt\u001b[0m                         Traceback (most recent call last)",
      "\u001b[0;32m<ipython-input-21-87ae1f364f39>\u001b[0m in \u001b[0;36m<module>\u001b[0;34m()\u001b[0m\n\u001b[1;32m      6\u001b[0m \"\"\"\n\u001b[1;32m      7\u001b[0m \u001b[0;31m# call training function\u001b[0m\u001b[0;34m\u001b[0m\u001b[0;34m\u001b[0m\u001b[0m\n\u001b[0;32m----> 8\u001b[0;31m \u001b[0mlosses\u001b[0m \u001b[0;34m=\u001b[0m \u001b[0mtrain\u001b[0m\u001b[0;34m(\u001b[0m\u001b[0mD\u001b[0m\u001b[0;34m,\u001b[0m \u001b[0mG\u001b[0m\u001b[0;34m,\u001b[0m \u001b[0mn_epochs\u001b[0m\u001b[0;34m=\u001b[0m\u001b[0mn_epochs\u001b[0m\u001b[0;34m)\u001b[0m\u001b[0;34m\u001b[0m\u001b[0m\n\u001b[0m",
      "\u001b[0;32m<ipython-input-20-6e94cafdeff7>\u001b[0m in \u001b[0;36mtrain\u001b[0;34m(D, G, n_epochs, print_every)\u001b[0m\n\u001b[1;32m     56\u001b[0m \u001b[0;34m\u001b[0m\u001b[0m\n\u001b[1;32m     57\u001b[0m             \u001b[0;31m# Backprop\u001b[0m\u001b[0;34m\u001b[0m\u001b[0;34m\u001b[0m\u001b[0m\n\u001b[0;32m---> 58\u001b[0;31m             \u001b[0mg_loss\u001b[0m\u001b[0;34m.\u001b[0m\u001b[0mbackward\u001b[0m\u001b[0;34m(\u001b[0m\u001b[0;34m)\u001b[0m\u001b[0;34m\u001b[0m\u001b[0m\n\u001b[0m\u001b[1;32m     59\u001b[0m             \u001b[0mg_optimizer\u001b[0m\u001b[0;34m.\u001b[0m\u001b[0mstep\u001b[0m\u001b[0;34m(\u001b[0m\u001b[0;34m)\u001b[0m\u001b[0;34m\u001b[0m\u001b[0m\n\u001b[1;32m     60\u001b[0m \u001b[0;34m\u001b[0m\u001b[0m\n",
      "\u001b[0;32m~/.local/share/miniconda3/envs/nndl/lib/python3.6/site-packages/torch/tensor.py\u001b[0m in \u001b[0;36mbackward\u001b[0;34m(self, gradient, retain_graph, create_graph)\u001b[0m\n\u001b[1;32m    104\u001b[0m                 \u001b[0mproducts\u001b[0m\u001b[0;34m.\u001b[0m \u001b[0mDefaults\u001b[0m \u001b[0mto\u001b[0m\u001b[0;31m \u001b[0m\u001b[0;31m`\u001b[0m\u001b[0;31m`\u001b[0m\u001b[0;32mFalse\u001b[0m\u001b[0;31m`\u001b[0m\u001b[0;31m`\u001b[0m\u001b[0;34m.\u001b[0m\u001b[0;34m\u001b[0m\u001b[0m\n\u001b[1;32m    105\u001b[0m         \"\"\"\n\u001b[0;32m--> 106\u001b[0;31m         \u001b[0mtorch\u001b[0m\u001b[0;34m.\u001b[0m\u001b[0mautograd\u001b[0m\u001b[0;34m.\u001b[0m\u001b[0mbackward\u001b[0m\u001b[0;34m(\u001b[0m\u001b[0mself\u001b[0m\u001b[0;34m,\u001b[0m \u001b[0mgradient\u001b[0m\u001b[0;34m,\u001b[0m \u001b[0mretain_graph\u001b[0m\u001b[0;34m,\u001b[0m \u001b[0mcreate_graph\u001b[0m\u001b[0;34m)\u001b[0m\u001b[0;34m\u001b[0m\u001b[0m\n\u001b[0m\u001b[1;32m    107\u001b[0m \u001b[0;34m\u001b[0m\u001b[0m\n\u001b[1;32m    108\u001b[0m     \u001b[0;32mdef\u001b[0m \u001b[0mregister_hook\u001b[0m\u001b[0;34m(\u001b[0m\u001b[0mself\u001b[0m\u001b[0;34m,\u001b[0m \u001b[0mhook\u001b[0m\u001b[0;34m)\u001b[0m\u001b[0;34m:\u001b[0m\u001b[0;34m\u001b[0m\u001b[0m\n",
      "\u001b[0;32m~/.local/share/miniconda3/envs/nndl/lib/python3.6/site-packages/torch/autograd/__init__.py\u001b[0m in \u001b[0;36mbackward\u001b[0;34m(tensors, grad_tensors, retain_graph, create_graph, grad_variables)\u001b[0m\n\u001b[1;32m     91\u001b[0m     Variable._execution_engine.run_backward(\n\u001b[1;32m     92\u001b[0m         \u001b[0mtensors\u001b[0m\u001b[0;34m,\u001b[0m \u001b[0mgrad_tensors\u001b[0m\u001b[0;34m,\u001b[0m \u001b[0mretain_graph\u001b[0m\u001b[0;34m,\u001b[0m \u001b[0mcreate_graph\u001b[0m\u001b[0;34m,\u001b[0m\u001b[0;34m\u001b[0m\u001b[0m\n\u001b[0;32m---> 93\u001b[0;31m         allow_unreachable=True)  # allow_unreachable flag\n\u001b[0m\u001b[1;32m     94\u001b[0m \u001b[0;34m\u001b[0m\u001b[0m\n\u001b[1;32m     95\u001b[0m \u001b[0;34m\u001b[0m\u001b[0m\n",
      "\u001b[0;31mKeyboardInterrupt\u001b[0m: "
     ]
    }
   ],
   "source": [
    "# set number of epochs \n",
    "n_epochs = 20\n",
    "\n",
    "# Training\n",
    "from workspace_utils import active_session\n",
    "\n",
    "with active_session():\n",
    "    losses = train(D, G, n_epochs=n_epochs)"
   ]
  },
  {
   "cell_type": "code",
   "execution_count": 22,
   "metadata": {},
   "outputs": [
    {
     "name": "stdout",
     "output_type": "stream",
     "text": [
      "Saved samples to train_samples_2019-04-16T18:18:15.pkl\n"
     ]
    }
   ],
   "source": [
    "from datetime import datetime\n",
    "timestamp = datetime.now().replace(microsecond=0).isoformat()\n",
    "\n",
    "train_samples_path = f'train_samples_{timestamp}.pkl'\n",
    "# Save training generator samples\n",
    "with open(train_samples_path, 'wb') as f:\n",
    "    pkl.dump(samples, f)\n",
    "    \n",
    "print(f'Saved samples to {train_samples_path}')"
   ]
  },
  {
   "cell_type": "markdown",
   "metadata": {
    "collapsed": true
   },
   "source": [
    "## Training loss\n",
    "\n",
    "Plot the training losses for the generator and discriminator, recorded after each epoch."
   ]
  },
  {
   "cell_type": "code",
   "execution_count": 23,
   "metadata": {},
   "outputs": [
    {
     "data": {
      "image/png": "[encoded data removed]",
      "text/plain": [
       "<Figure size 432x288 with 1 Axes>"
      ]
     },
     "metadata": {
      "image/png": {
       "height": 263,
       "width": 367
      }
     },
     "output_type": "display_data"
    }
   ],
   "source": [
    "fig, ax = plt.subplots()\n",
    "losses = np.array(losses)\n",
    "plt.plot(losses.T[0], label='Discriminator', alpha=0.5)\n",
    "plt.plot(losses.T[1], label='Generator', alpha=0.5)\n",
    "plt.title(\"Training Losses\")\n",
    "plt.legend();"
   ]
  },
  {
   "cell_type": "code",
   "execution_count": 24,
   "metadata": {},
   "outputs": [
    {
     "name": "stdout",
     "output_type": "stream",
     "text": [
      "Sample mean D loss = 1.4087044791928653\n",
      "Sample mean G loss = 1.1016896254029767\n"
     ]
    }
   ],
   "source": [
    "# sample_mean_loss = losses.T[1][30:200].mean()  # 2019-04-16T14:23:36  4.241\n",
    "begin = 10\n",
    "d_sample_mean_loss = losses.T[0][begin:].mean()\n",
    "g_sample_mean_loss = losses.T[1][begin:].mean()\n",
    "print(f'Sample mean D loss = {d_sample_mean_loss}')\n",
    "print(f'Sample mean G loss = {g_sample_mean_loss}')"
   ]
  },
  {
   "cell_type": "code",
   "execution_count": 25,
   "metadata": {},
   "outputs": [
    {
     "name": "stdout",
     "output_type": "stream",
     "text": [
      "Saved checkpoint to gan-2019-04-16T18:18:15.pth\n",
      "Loaded checkpoint from gan-2019-04-16T18:18:15.pth\n"
     ]
    }
   ],
   "source": [
    "# Save the model\n",
    "save_path = f'gan-{timestamp}.pth'\n",
    "\n",
    "checkpoint = {'losses':       losses,\n",
    "              'd_state_dict': D.state_dict(),\n",
    "              'g_state_dict': G.state_dict(), \n",
    "              'd_optimizer':  d_optimizer.state_dict(),\n",
    "              'g_optimizer':  d_optimizer.state_dict()}\n",
    "\n",
    "torch.save(checkpoint, save_path)\n",
    "\n",
    "print(f'Saved checkpoint to {save_path}')\n",
    "\n",
    "\n",
    "## Load\n",
    "D, G = build_network(d_conv_dim, g_conv_dim, z_size, verbose=False)\n",
    "checkpoint = torch.load(save_path)\n",
    "\n",
    "losses = checkpoint['losses']\n",
    "D.load_state_dict(checkpoint['d_state_dict'])\n",
    "G.load_state_dict(checkpoint['g_state_dict'])\n",
    "d_optimizer.load_state_dict(checkpoint['d_optimizer'])\n",
    "g_optimizer.load_state_dict(checkpoint['g_optimizer'])\n",
    "print(f'Loaded checkpoint from {save_path}')"
   ]
  },
  {
   "cell_type": "code",
   "execution_count": 26,
   "metadata": {},
   "outputs": [],
   "source": [
    "# gan-2019-04-16T14:15:39.pth  First completed"
   ]
  },
  {
   "cell_type": "markdown",
   "metadata": {
    "collapsed": true
   },
   "source": [
    "## Generator samples from training\n",
    "\n",
    "View samples of images from the generator, and answer a question about the strengths and weaknesses of your trained models."
   ]
  },
  {
   "cell_type": "code",
   "execution_count": 27,
   "metadata": {},
   "outputs": [],
   "source": [
    "# helper function for viewing a list of passed in sample images\n",
    "def view_samples(epoch, samples):\n",
    "#     fig, axes = plt.subplots(figsize=(16,4), nrows=2, ncols=8, sharey=True, sharex=True)\n",
    "    fig, axes = plt.subplots(figsize=(8,8), nrows=4, ncols=4, sharey=True, sharex=True)\n",
    "    for ax, img in zip(axes.flatten(), samples[epoch]):\n",
    "        img = img.detach().cpu().numpy()\n",
    "        img = np.transpose(img, (1, 2, 0))\n",
    "        img = ((img + 1)*255 / (2)).astype(np.uint8)\n",
    "        ax.xaxis.set_visible(False)\n",
    "        ax.yaxis.set_visible(False)\n",
    "        im = ax.imshow(img.reshape((32,32,3)))"
   ]
  },
  {
   "cell_type": "code",
   "execution_count": 28,
   "metadata": {},
   "outputs": [],
   "source": [
    "# Load samples from generator, taken while training\n",
    "with open(train_samples_path, 'rb') as f:\n",
    "    samples = pkl.load(f)"
   ]
  },
  {
   "cell_type": "code",
   "execution_count": 29,
   "metadata": {},
   "outputs": [],
   "source": [
    "# Display latest samples\n",
    "if samples:\n",
    "    view_samples(-1, samples);"
   ]
  },
  {
   "cell_type": "markdown",
   "metadata": {},
   "source": [
    "### Question: What do you notice about your generated samples and how might you improve this model?\n",
    "When you answer this question, consider the following factors:\n",
    "* The dataset is biased; it is made of \"celebrity\" faces that are mostly white\n",
    "* Model size; larger models have the opportunity to learn more features in a data feature space\n",
    "* Optimization strategy; optimizers and number of epochs affect your final result\n"
   ]
  },
  {
   "cell_type": "markdown",
   "metadata": {},
   "source": [
    "**Answer:**\n",
    "\n",
    "* The training set has chins cut off. I would prefer to generate a dataset which also took some pixels below the bottom of the face bounding box.\n",
    "* I would like to try another convolutional block in both discriminator and generator to see how increasing the complexity of the model affects the results.\n",
    "* I would like to train for more epochs, to see how face realism is affected with increased training. Given the subjective nature of this, perhaps I could find an external objective metric.\n",
    "* The resolution of 32x32 is low. The initial images are 64x64 but scaled down to 32x32. I'd like to scale out the convolutional layer's dimensions to the original 64x64 size, or even 128x128 (using interpolated upscaling on the dataset).\n",
    "* Better quality 32x32 images could possibly be obtained by generating 64x64 images and then downsampling\n",
    "* I would like to be able to find out which regions of latent space map to under-represented demographics (eg children) and how well the model performs in generating faces from those demographics.\n",
    "* Recognising that some demographics may have fewer examples than others, I would be interested in exploring weighting the loss funciton based on the number of samples."
   ]
  }
 ],
 "metadata": {
  "kernelspec": {
   "display_name": "Python 3",
   "language": "python",
   "name": "python3"
  },
  "language_info": {
   "codemirror_mode": {
    "name": "ipython",
    "version": 3
   },
   "file_extension": ".py",
   "mimetype": "text/x-python",
   "name": "python",
   "nbconvert_exporter": "python",
   "pygments_lexer": "ipython3",
   "version": "3.6.5"
  }
 },
 "nbformat": 4,
 "nbformat_minor": 1
}
