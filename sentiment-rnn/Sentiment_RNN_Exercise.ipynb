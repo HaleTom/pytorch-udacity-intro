{
 "cells": [
  {
   "cell_type": "markdown",
   "metadata": {},
   "source": [
    "# Sentiment Analysis with an RNN\n",
    "\n",
    "In this notebook, you'll implement a recurrent neural network that performs sentiment analysis. \n",
    ">Using an RNN rather than a strictly feedforward network is more accurate since we can include information about the *sequence* of words. \n",
    "\n",
    "Here we'll use a dataset of movie reviews, accompanied by sentiment labels: positive or negative.\n",
    "\n",
    "<img src=\"assets/reviews_ex.png\" width=40%>\n",
    "\n",
    "### Network Architecture\n",
    "\n",
    "The architecture for this network is shown below.\n",
    "\n",
    "<img src=\"assets/network_diagram.png\" width=40%>\n",
    "\n",
    ">**First, we'll pass in words to an embedding layer.** We need an embedding layer because we have tens of thousands of words, so we'll need a more efficient representation for our input data than one-hot encoded vectors. You should have seen this before from the Word2Vec lesson. You can actually train an embedding with the Skip-gram Word2Vec model and use those embeddings as input, here. However, it's good enough to just have an embedding layer and let the network learn a different embedding table on its own. *In this case, the embedding layer is for dimensionality reduction, rather than for learning semantic representations.*\n",
    "\n",
    ">**After input words are passed to an embedding layer, the new embeddings will be passed to LSTM cells.** The LSTM cells will add *recurrent* connections to the network and give us the ability to include information about the *sequence* of words in the movie review data. \n",
    "\n",
    ">**Finally, the LSTM outputs will go to a sigmoid output layer.** We're using a sigmoid function because positive and negative = 1 and 0, respectively, and a sigmoid will output predicted, sentiment values between 0-1. \n",
    "\n",
    "We don't care about the sigmoid outputs except for the **very last one**; we can ignore the rest. We'll calculate the loss by comparing the output at the last time step and the training label (pos or neg)."
   ]
  },
  {
   "cell_type": "markdown",
   "metadata": {},
   "source": [
    "--------------\n",
    "\n",
    "I based my solution on the one at:\n",
    "    https://www.kaggle.com/nilanml/imdb-review-deep-model-94-89-accuracy"
   ]
  },
  {
   "cell_type": "code",
   "execution_count": 32,
   "metadata": {},
   "outputs": [],
   "source": [
    "# Prettily debug any object passed\n",
    "\n",
    "import inspect\n",
    "import re\n",
    "\n",
    "def describe(arg):\n",
    "    frame = inspect.currentframe()\n",
    "    callerframeinfo = inspect.getframeinfo(frame.f_back)\n",
    "    try:\n",
    "        context = inspect.getframeinfo(frame.f_back).code_context\n",
    "        caller_lines = ''.join([line.strip() for line in context])\n",
    "        m = re.search(r'describe\\s*\\((.+?)\\)$', caller_lines)\n",
    "        if m:\n",
    "            caller_lines = m.group(1)\n",
    "            position = str(callerframeinfo.filename) + \"@\" + str(callerframeinfo.lineno)\n",
    "\n",
    "            # Add additional info such as shape, length, datatype\n",
    "            additional = []\n",
    "\n",
    "            if hasattr(arg, \"dtype\"):\n",
    "                additional.append(\"{}\".format(arg.dtype))\n",
    "\n",
    "            additional.append(type(arg).__qualname__)\n",
    "            \n",
    "            if hasattr(arg, \"shape\"):\n",
    "                additional.append(\"shape={}\".format(tuple(arg.shape)))\n",
    "            elif hasattr(arg, \"__len__\"):  # shape includes length information\n",
    "                additional.append(\"[len={}]\".format(len(arg)))\n",
    "\n",
    "                    \n",
    "            # Use str() representation if it is printable\n",
    "            str_arg = str(arg)\n",
    "            str_arg = str_arg if str_arg.isprintable() else repr(arg)\n",
    "\n",
    "            print(position, \"describe(\" + caller_lines + \") = \", end='')\n",
    "            print(\" \".join(additional) + \" \", end='')\n",
    "            if \"\\n\" in str_arg: print()  # It's multi-line\n",
    "            print(str_arg)\n",
    "        else:\n",
    "            print(\"Describe: couldn't find caller context\")\n",
    "\n",
    "    finally:\n",
    "        del frame\n",
    "        del callerframeinfo"
   ]
  },
  {
   "cell_type": "markdown",
   "metadata": {},
   "source": [
    "---\n",
    "### Load in and visualize the data"
   ]
  },
  {
   "cell_type": "code",
   "execution_count": 2,
   "metadata": {},
   "outputs": [],
   "source": [
    "import numpy as np\n",
    "\n",
    "# read data from text files\n",
    "with open('data/reviews.txt', 'r') as f:\n",
    "    reviews = f.read()\n",
    "with open('data/labels.txt', 'r') as f:\n",
    "    labels = f.read()"
   ]
  },
  {
   "cell_type": "code",
   "execution_count": 3,
   "metadata": {},
   "outputs": [
    {
     "name": "stdout",
     "output_type": "stream",
     "text": [
      "bromwell high is a cartoon comedy . it ran at the same time as some other programs about school life  such as  teachers  . my   years in the teaching profession lead me to believe that bromwell high  s satire is much closer to reality than is  teachers  . the scramble to survive financially  the insightful students who can see right through their pathetic teachers  pomp  the pettiness of the whole situation  all remind me of the schools i knew and their students . when i saw the episode in which a student repeatedly tried to burn down the school  i immediately recalled . . . . . . . . . at . . . . . . . . . . high . a classic line inspector i  m here to sack one of your teachers . student welcome to bromwell high . i expect that many adults of my age think that bromwell high is far fetched . what a pity that it isn  t   \n",
      "story of a man who has unnatural feelings for a pig . starts out with a opening scene that is a terrific example of absurd comedy . a formal orchestra audience is turned into an insane  violent mob by the crazy chantings of it  s singers . unfortunately it stays absurd the whole time with no general narrative eventually making it just too off putting . even those from the era should be turned off . the cryptic dialogue would make shakespeare seem easy to a third grader . on a technical level it  s better than you might think with some good cinematography by future great vilmos zsigmond . future stars sally kirkland and frederic forrest can be seen briefly .  \n",
      "homelessness  or houselessness as george carlin stated  has been an issue for years but never a plan to help those on the street that were once considered human who did everything from going to school  work  or vote for the matter . most people think of the homeless as just a lost cause while worrying about things such as racism  the war on iraq  pressuring kids to succeed  technology  the elections  inflation  or worrying if they  ll be next to end up on the streets .  br    br   but what if y\n",
      "\n",
      "positive\n",
      "negative\n",
      "po\n"
     ]
    }
   ],
   "source": [
    "print(reviews[:2000])\n",
    "print()\n",
    "print(labels[:20])"
   ]
  },
  {
   "cell_type": "markdown",
   "metadata": {},
   "source": [
    "## Data pre-processing\n",
    "\n",
    "The first step when building a neural network model is getting your data into the proper form to feed into the network. Since we're using embedding layers, we'll need to encode each word with an integer. We'll also want to clean it up a bit.\n",
    "\n",
    "You can see an example of the reviews data above. Here are the processing steps, we'll want to take:\n",
    ">* We'll want to get rid of periods and extraneous punctuation.\n",
    "* Also, you might notice that the reviews are delimited with newline characters `\\n`. To deal with those, I'm going to split the text into each review using `\\n` as the delimiter. \n",
    "* Then I can combined all the reviews back together into one big string.\n",
    "\n",
    "First, let's remove all punctuation. Then get all the text without the newlines and split it into individual words."
   ]
  },
  {
   "cell_type": "code",
   "execution_count": 4,
   "metadata": {},
   "outputs": [
    {
     "name": "stdout",
     "output_type": "stream",
     "text": [
      "Punctuation chars: !\"#$%&'()*+,-./:;<=>?@[\\]^_`{|}~\n"
     ]
    }
   ],
   "source": [
    "from string import punctuation\n",
    "\n",
    "print(f'Punctuation chars: {punctuation}')\n",
    "\n",
    "# Return list of reviews, one line per element\n",
    "def clean_data(reviews):    \n",
    "    # Remove punctuation\n",
    "    reviews = ''.join([c for c in reviews if c not in punctuation])\n",
    "    \n",
    "    # Split into lines and lowercase\n",
    "    lines = [line.strip().lower() for line in reviews.split('\\n') if line]\n",
    "    return lines\n",
    "\n",
    "reviews_split = clean_data(reviews);"
   ]
  },
  {
   "cell_type": "code",
   "execution_count": 5,
   "metadata": {},
   "outputs": [
    {
     "name": "stdout",
     "output_type": "stream",
     "text": [
      "'bromwell', 'high', 'is', 'a', 'cartoon', 'comedy', 'it', 'ran', 'at', 'the', 'same', 'time', 'as', 'some', 'other', 'programs', 'about', 'school', 'life', 'such', 'as', 'teachers', 'my', 'years', 'in', 'the', 'teaching', 'profession', 'lead', 'me'\n"
     ]
    }
   ],
   "source": [
    "# split by new lines and spaces\n",
    "# reviews_split = [line.strip().lower() for line in reviews.split('\\n') if line]\n",
    "all_text = ' '.join(reviews_split)\n",
    "\n",
    "# create a list of words\n",
    "words = all_text.split()\n",
    "\n",
    "# Show first items of split words\n",
    "print(', '.join(map(repr, words[:30])))"
   ]
  },
  {
   "cell_type": "markdown",
   "metadata": {},
   "source": [
    "### Encoding the words\n",
    "\n",
    "The embedding lookup requires that we pass in integers to our network. The easiest way to do this is to create dictionaries that map the words in the vocabulary to integers. Then we can convert each of our reviews into integers so they can be passed into the network.\n",
    "\n",
    "> **Exercise:** Now you're going to encode the words with integers. Build a dictionary that maps words to integers. Later we're going to pad our input vectors with zeros, so make sure the integers **start at 1, not 0**.\n",
    "> Also, convert the reviews to integers and store the reviews in a new list called `reviews_ints`. "
   ]
  },
  {
   "cell_type": "code",
   "execution_count": 6,
   "metadata": {},
   "outputs": [],
   "source": [
    "## Build a dictionary that maps words to integers\n",
    "\n",
    "from collections import Counter\n",
    "word_freq = Counter(words).most_common()  # sorted by frequency\n",
    "# Can use set() if sorting isn't important\n",
    "\n",
    "vocab_to_int = {word: index for index, (word, _) in enumerate(word_freq, start=1)}\n",
    "\n",
    "# print(vocab_to_int['the'])"
   ]
  },
  {
   "cell_type": "markdown",
   "metadata": {},
   "source": [
    "## Use vocab_to_int to tokenize each review in reviews_split"
   ]
  },
  {
   "cell_type": "code",
   "execution_count": 7,
   "metadata": {},
   "outputs": [],
   "source": [
    "# reviews_ints = [[vocab_to_int[word] for word in line.split()] for line in reviews_split]\n",
    "\n",
    "def reviews_to_ints(reviews):\n",
    "    '''Convert review tokens to integers\n",
    "    param reviews: list of reviews'''\n",
    "    return [[vocab_to_int[word] for word in line.split()] for line in reviews]\n",
    "\n",
    "reviews_ints = reviews_to_ints(reviews_split)"
   ]
  },
  {
   "cell_type": "markdown",
   "metadata": {},
   "source": [
    "**Test your code**\n",
    "\n",
    "As a text that you've implemented the dictionary correctly, print out the number of unique words in your vocabulary and the contents of the first, tokenized review."
   ]
  },
  {
   "cell_type": "code",
   "execution_count": 8,
   "metadata": {},
   "outputs": [
    {
     "name": "stdout",
     "output_type": "stream",
     "text": [
      "Unique words:  74072\n",
      "\n",
      "bromwell high is a cartoon comedy  it ran at the same time as some other programs about school life  such as  teachers   my   years in the teaching profession lead me to believe that bromwell high  s satire is much closer to reality than is  teachers   the scramble to survive financially  the insightful students who can see right through their pathetic teachers  pomp  the pettiness of the whole situation  all remind me of the schools i knew and their students  when i saw the episode in which a student repeatedly tried to burn down the school  i immediately recalled          at           high  a classic line inspector i  m here to sack one of your teachers  student welcome to bromwell high  i expect that many adults of my age think that bromwell high is far fetched  what a pity that it isn  t\n",
      "\n",
      "Tokenized review: \n",
      " [[21025, 308, 6, 3, 1050, 207, 8, 2138, 32, 1, 171, 57, 15, 49, 81, 5785, 44, 382, 110, 140, 15, 5194, 60, 154, 9, 1, 4975, 5852, 475, 71, 5, 260, 12, 21025, 308, 13, 1978, 6, 74, 2395, 5, 613, 73, 6, 5194, 1, 24103, 5, 1983, 10166, 1, 5786, 1499, 36, 51, 66, 204, 145, 67, 1199, 5194, 19869, 1, 37442, 4, 1, 221, 883, 31, 2988, 71, 4, 1, 5787, 10, 686, 2, 67, 1499, 54, 10, 216, 1, 383, 9, 62, 3, 1406, 3686, 783, 5, 3483, 180, 1, 382, 10, 1212, 13583, 32, 308, 3, 349, 341, 2913, 10, 143, 127, 5, 7690, 30, 4, 129, 5194, 1406, 2326, 5, 21025, 308, 10, 528, 12, 109, 1448, 4, 60, 543, 102, 12, 21025, 308, 6, 227, 4146, 48, 3, 2211, 12, 8, 215, 23]]\n"
     ]
    }
   ],
   "source": [
    "# stats about vocabulary\n",
    "print('Unique words: ', len((vocab_to_int)))  # should ~ 74000+\n",
    "print()\n",
    "\n",
    "print(reviews_split[0])\n",
    "\n",
    "# print tokens in first review\n",
    "print('\\nTokenized review: \\n', reviews_ints[:1])"
   ]
  },
  {
   "cell_type": "markdown",
   "metadata": {},
   "source": [
    "### Encoding the labels\n",
    "\n",
    "Our labels are \"positive\" or \"negative\". To use these labels in our network, we need to convert them to 0 and 1.\n",
    "\n",
    "> **Exercise:** Convert labels from `positive` and `negative` to 1 and 0, respectively, and place those in a new list, `encoded_labels`."
   ]
  },
  {
   "cell_type": "code",
   "execution_count": 9,
   "metadata": {},
   "outputs": [],
   "source": [
    "# Remove dups and capitals\n",
    "cleaned_labels = [line.strip().lower() for line in labels.split('\\n') if line]\n",
    "\n",
    "# 1=positive, 0=negative label conversion\n",
    "label_to_int = {'negative': 0, 'positive': 1}\n",
    "\n",
    "encoded_labels = [label_to_int[label] for label in cleaned_labels]\n",
    "\n",
    "assert len(encoded_labels) == len(reviews_ints), \"Mismatch of number of labels and reviews\""
   ]
  },
  {
   "cell_type": "markdown",
   "metadata": {},
   "source": [
    "### Removing Outliers\n",
    "\n",
    "As an additional pre-processing step, we want to make sure that our reviews are in good shape for standard processing. That is, our network will expect a standard input text size, and so, we'll want to shape our reviews into a specific length. We'll approach this task in two main steps:\n",
    "\n",
    "1. Getting rid of extremely long or short reviews; the outliers\n",
    "2. Padding/truncating the remaining data so that we have reviews of the same length.\n",
    "\n",
    "<img src=\"assets/outliers_padding_ex.png\" width=40%>\n",
    "\n",
    "Before we pad our review text, we should check for reviews of extremely short or long lengths; outliers that may mess with our training."
   ]
  },
  {
   "cell_type": "code",
   "execution_count": 10,
   "metadata": {},
   "outputs": [
    {
     "name": "stdout",
     "output_type": "stream",
     "text": [
      "Zero-length reviews: 0\n",
      "Maximum review length: 2514\n"
     ]
    }
   ],
   "source": [
    "# outlier review stats\n",
    "review_lens = Counter([len(x) for x in reviews_ints])\n",
    "print(\"Zero-length reviews: {}\".format(review_lens[0]))\n",
    "print(\"Maximum review length: {}\".format(max(review_lens)))"
   ]
  },
  {
   "cell_type": "markdown",
   "metadata": {},
   "source": [
    "Okay, a couple issues here. We seem to have one review with zero length. And, the maximum review length is way too many steps for our RNN. We'll have to remove any super short reviews and truncate super long reviews. This removes outliers and should allow our model to train more efficiently.\n",
    "\n",
    "> **Exercise:** First, remove *any* reviews with zero length from the `reviews_ints` list and their corresponding label in `encoded_labels`."
   ]
  },
  {
   "cell_type": "code",
   "execution_count": 11,
   "metadata": {},
   "outputs": [
    {
     "name": "stdout",
     "output_type": "stream",
     "text": [
      "Number of reviews before removing outliers:  25000\n",
      "Number of reviews after removing outliers:  25000\n"
     ]
    }
   ],
   "source": [
    "print('Number of reviews before removing outliers: ', len(reviews_ints))\n",
    "\n",
    "## remove any reviews/labels with zero length from the reviews_ints list.\n",
    "\n",
    "# Equivalent to:\n",
    "# reviews_ints = [review for review in reviews_ints if review]\n",
    "reviews_ints = list(filter(None, reviews_ints)) \n",
    "\n",
    "# encoded_labels has already been cleaned above.\n",
    "\n",
    "print('Number of reviews after removing outliers: ', len(reviews_ints))"
   ]
  },
  {
   "cell_type": "markdown",
   "metadata": {},
   "source": [
    "---\n",
    "## Padding sequences\n",
    "\n",
    "To deal with both short and very long reviews, we'll pad or truncate all our reviews to a specific length. For reviews shorter than some `seq_length`, we'll pad with 0s. For reviews longer than `seq_length`, we can truncate them to the first `seq_length` words. A good `seq_length`, in this case, is 200.\n",
    "\n",
    "> **Exercise:** Define a function that returns an array `features` that contains the padded data, of a standard size, that we'll pass to the network. \n",
    "* The data should come from `review_ints`, since we want to feed integers to the network. \n",
    "* Each row should be `seq_length` elements long. \n",
    "* For reviews shorter than `seq_length` words, **left pad** with 0s. That is, if the review is `['best', 'movie', 'ever']`, `[117, 18, 128]` as integers, the row will look like `[0, 0, 0, ..., 0, 117, 18, 128]`. \n",
    "* For reviews longer than `seq_length`, use only the first `seq_length` words as the feature vector.\n",
    "\n",
    "As a small example, if the `seq_length=10` and an input review is: \n",
    "```\n",
    "[117, 18, 128]\n",
    "```\n",
    "The resultant, padded sequence should be: \n",
    "\n",
    "```\n",
    "[0, 0, 0, 0, 0, 0, 0, 117, 18, 128]\n",
    "```\n",
    "\n",
    "**Your final `features` array should be a 2D array, with as many rows as there are reviews, and as many columns as the specified `seq_length`.**\n",
    "\n",
    "This isn't trivial and there are a bunch of ways to do this. But, if you're going to be building your own deep learning networks, you're going to have to get used to preparing your data."
   ]
  },
  {
   "cell_type": "code",
   "execution_count": 12,
   "metadata": {},
   "outputs": [],
   "source": [
    "def pad_features(reviews_ints, seq_length):\n",
    "    ''' Return features of review_ints, where each review is padded with 0's \n",
    "        or truncated to the input seq_length.\n",
    "    '''\n",
    "    padding = lambda ints: [0] * (seq_length - len(ints))\n",
    "    \n",
    "    features = [padding(review) + review[:seq_length] for review in reviews_ints]\n",
    "    \n",
    "    return features\n",
    "\n",
    "test = [ [1, 2, 3], [1, 2], [1] ]\n",
    "assert pad_features(test, 2) ==  [ [1, 2], [1, 2], [0, 1] ], '0s are not padded correctly'"
   ]
  },
  {
   "cell_type": "code",
   "execution_count": 13,
   "metadata": {},
   "outputs": [
    {
     "name": "stdout",
     "output_type": "stream",
     "text": [
      "[[    0     0     0     0     0     0     0     0     0     0     0     0]\n",
      " [    0     0     0     0     0     0     0     0     0     0     0     0]\n",
      " [22382    42 46418    15   706 17139  3389    47    77    35  1819    16]\n",
      " [ 4505   505    15     3  3342   162  8312  1652     6  4819    56    17]\n",
      " [    0     0     0     0     0     0     0     0     0     0     0     0]\n",
      " [    0     0     0     0     0     0     0     0     0     0     0     0]\n",
      " [    0     0     0     0     0     0     0     0     0     0     0     0]\n",
      " [    0     0     0     0     0     0     0     0     0     0     0     0]\n",
      " [    0     0     0     0     0     0     0     0     0     0     0     0]\n",
      " [   54    10    14   116    60   798   552    71   364     5     1   730]\n",
      " [    0     0     0     0     0     0     0     0     0     0     0     0]\n",
      " [    0     0     0     0     0     0     0     0     0     0     0     0]\n",
      " [    0     0     0     0     0     0     0     0     0     0     0     0]\n",
      " [    1   330   578    34     3   162   748  2731     9   325    73   154]\n",
      " [    9    11 10171  5305  1946   689   444    22   280   673  4608  2069]\n",
      " [    0     0     0     0     0     0     0     0     0     0     0     0]\n",
      " [    1   307 10399  2069  1565  6202  6528  3288 17946 10628  8179   865]\n",
      " [    0     0     0     0     0     0     0     0     0     0     0     0]\n",
      " [   21   122  2069  1565   515  8181    88     6  1325  1182   309     9]\n",
      " [    1    20     6    76    40     6    58    81    95     5   133     8]]\n"
     ]
    }
   ],
   "source": [
    "# Test your implementation!\n",
    "\n",
    "seq_length = 200\n",
    "\n",
    "features = pad_features(reviews_ints, seq_length=seq_length)\n",
    "\n",
    "# Further tests\n",
    "assert len(features)==len(reviews_ints), \"Your features should have as many rows as reviews.\"\n",
    "\n",
    "for i, r in enumerate(features):\n",
    "    assert len(r) == 200, f'Row {i} should contain seq_length values.'\n",
    "\n",
    "features = np.array(features)\n",
    "print(features[:20,:12])"
   ]
  },
  {
   "cell_type": "markdown",
   "metadata": {},
   "source": [
    "## Training, Validation, Test\n",
    "\n",
    "With our data in nice shape, we'll split it into training, validation, and test sets.\n",
    "\n",
    "> **Exercise:** Create the training, validation, and test sets. \n",
    "* You'll need to create sets for the features and the labels, `train_x` and `train_y`, for example. \n",
    "* Define a split fraction, `split_frac` as the fraction of data to **keep** in the training set. Usually this is set to 0.8 or 0.9. \n",
    "* Whatever data is left will be split in half to create the validation and *testing* data."
   ]
  },
  {
   "cell_type": "code",
   "execution_count": 14,
   "metadata": {},
   "outputs": [],
   "source": [
    "# \"Import\" torch.utils.data.random_split if if using torch <= v0.4.0\n",
    "import torch.utils.data\n",
    "\n",
    "if torch.utils.data.__dict__.get('random_split', None):\n",
    "    random_split = torch.utils.data.random_split\n",
    "else:\n",
    "    class Subset(torch.utils.data.Dataset):\n",
    "        \"\"\"\n",
    "        Subset of a dataset at specified indices.\n",
    "\n",
    "        Arguments:\n",
    "            dataset (Dataset): The whole Dataset\n",
    "            indices (sequence): Indices in the whole set selected for subset\n",
    "        \"\"\"\n",
    "        def __init__(self, dataset, indices):\n",
    "            self.dataset = dataset\n",
    "            self.indices = indices\n",
    "\n",
    "        def __getitem__(self, idx):\n",
    "            return self.dataset[self.indices[idx]]\n",
    "\n",
    "        def __len__(self):\n",
    "            return len(self.indices)\n",
    "\n",
    "    def random_split(dataset, lengths):\n",
    "        \"\"\"\n",
    "        Randomly split a dataset into non-overlapping new datasets of given lengths.\n",
    "\n",
    "        Arguments:\n",
    "            dataset (Dataset): Dataset to be split\n",
    "            lengths (sequence): lengths of splits to be produced\n",
    "        \"\"\"\n",
    "        if sum(lengths) != len(dataset):\n",
    "            raise ValueError(\"Sum of input lengths does not equal the length of the input dataset!\")\n",
    "\n",
    "        indices = torch.randperm(sum(lengths))\n",
    "        return [Subset(dataset, indices[offset - length:offset]) for offset, length in \\\n",
    "                zip(itertools.accumulate(lengths), lengths)]"
   ]
  },
  {
   "cell_type": "code",
   "execution_count": 15,
   "metadata": {
    "scrolled": true
   },
   "outputs": [],
   "source": [
    "import torch, itertools\n",
    "from torch.utils.data import TensorDataset\n",
    "\n",
    "# TODO: Allow dataset to be auto-converted from a list of lists\n",
    "def dataset_split(dataset, train_frac):\n",
    "    '''\n",
    "    param dataset:    Dataset object to be split\n",
    "    param train_frac: Ratio of train set to whole dataset\n",
    "    \n",
    "    Randomly split dataset into a dictionary with keys, based on these ratios:\n",
    "        'train': train_frac\n",
    "        'valid': (1-train_frac) / 2\n",
    "        'test':  (1-train_frac) / 2\n",
    "    '''\n",
    "    assert train_frac >= 0 and train_frac <= 1, \"Invalid training set fraction\"\n",
    "    \n",
    "    length = len(dataset)\n",
    "    \n",
    "    # Use int to get the floor to favour allocation to the smaller valid and test sets    \n",
    "    train_length = int(length * train_frac)\n",
    "    valid_length = int((length - train_length) / 2)\n",
    "    test_length  = length - train_length - valid_length\n",
    "    \n",
    "    dataset_list = random_split(dataset, (train_length, valid_length, test_length))\n",
    "    dataset = {name: dset for name, dset in zip(('train', 'valid', 'test'), dataset_list)}\n",
    "    return dataset"
   ]
  },
  {
   "cell_type": "code",
   "execution_count": 44,
   "metadata": {},
   "outputs": [
    {
     "name": "stdout",
     "output_type": "stream",
     "text": [
      "len(dataset[\"train\"] == 20000\n",
      "len(dataset[\"valid\"] == 2500\n",
      "len(dataset[\"test\" ] == 2500\n"
     ]
    }
   ],
   "source": [
    "## Split data into training, validation, and test datasets\n",
    "\n",
    "dataset = TensorDataset(torch.tensor(features, dtype=torch.int),\n",
    "                        torch.tensor(encoded_labels, dtype=torch.uint8))\n",
    "\n",
    "# Test\n",
    "# dataset = TensorDataset(torch.Tensor([1, 2, 3]), torch.Tensor([11, 22, 33]))\n",
    "\n",
    "split_frac = 0.8\n",
    "dataset = dataset_split(dataset, split_frac) # Get dict of Subset objects\n",
    "      \n",
    "# Print out the lengths of the resultant datasets\n",
    "print(f'len(dataset[\"train\"] == {len(dataset[\"train\"])}')\n",
    "print(f'len(dataset[\"valid\"] == {len(dataset[\"valid\"])}')\n",
    "print(f'len(dataset[\"test\" ] == {len(dataset[\"test\" ])}')\n",
    "      \n",
    "# describe(datasets[\"train\"].dataset[0][0].shape) # == torch.Size([200]) # shape of first x value"
   ]
  },
  {
   "cell_type": "markdown",
   "metadata": {},
   "source": [
    "**Check your work**\n",
    "\n",
    "With train, validation, and test fractions equal to 0.8, 0.1, 0.1, respectively, the final, feature data shapes should look like:\n",
    "```\n",
    "                    Feature Shapes:\n",
    "Train set: \t\t (20000, 200) \n",
    "Validation set: \t(2500, 200) \n",
    "Test set: \t\t  (2500, 200)\n",
    "```"
   ]
  },
  {
   "cell_type": "markdown",
   "metadata": {},
   "source": [
    "---\n",
    "## DataLoaders and Batching\n",
    "\n",
    "After creating training, test, and validation data, we can create DataLoaders for this data by following two steps:\n",
    "1. Create a known format for accessing our data, using [TensorDataset](https://pytorch.org/docs/stable/data.html#) which takes in an input set of data and a target set of data with the same first dimension, and creates a dataset.\n",
    "2. Create DataLoaders and batch our training, validation, and test Tensor datasets.\n",
    "\n",
    "```\n",
    "train_data = TensorDataset(torch.from_numpy(train_x), torch.from_numpy(train_y))\n",
    "train_loader = DataLoader(train_data, batch_size=batch_size)\n",
    "```\n",
    "\n",
    "This is an alternative to creating a generator function for batching our data into full batches."
   ]
  },
  {
   "cell_type": "code",
   "execution_count": 45,
   "metadata": {},
   "outputs": [],
   "source": [
    "###\n",
    "### This code was provided by the course.\n",
    "### Its flaw is assuming that the complete set is randomly distributed\n",
    "###\n",
    "\n",
    "# from torch.utils.data import TensorDataset, DataLoader\n",
    "\n",
    "# # create Tensor datasets\n",
    "# train_data = TensorDataset(torch.from_numpy(train_x), torch.from_numpy(train_y))\n",
    "# valid_data = TensorDataset(torch.from_numpy(val_x), torch.from_numpy(val_y))\n",
    "# test_data = TensorDataset(torch.from_numpy(test_x), torch.from_numpy(test_y))"
   ]
  },
  {
   "cell_type": "code",
   "execution_count": 46,
   "metadata": {},
   "outputs": [],
   "source": [
    "# Create dataloaders\n",
    "from torch.utils.data import DataLoader\n",
    "\n",
    "batch_size = 96\n",
    "\n",
    "# Shuffle again to ensure that epochs provide different batches\n",
    "train_loader = DataLoader(dataset['train'], shuffle=True, batch_size=batch_size)\n",
    "valid_loader = DataLoader(dataset['train'], shuffle=True, batch_size=batch_size)\n",
    "test_loader =  DataLoader(dataset['test' ], shuffle=True, batch_size=batch_size)"
   ]
  },
  {
   "cell_type": "code",
   "execution_count": 47,
   "metadata": {},
   "outputs": [
    {
     "name": "stdout",
     "output_type": "stream",
     "text": [
      "Sample input size:  torch.Size([96, 200])\n",
      "Sample input: \n",
      " tensor([[     0,      0,      0,  ...,    789,      8,     45],\n",
      "        [    11,      6,   4037,  ...,    692,    200,      8],\n",
      "        [  2018,     10,     89,  ...,     26,    179,     50],\n",
      "        ...,\n",
      "        [    11,      6,      3,  ...,     12,     25,    552],\n",
      "        [     0,      0,      0,  ...,      8,     55,     74],\n",
      "        [  8139,     22,   1193,  ...,    144,      5,   3476]], dtype=torch.int32)\n",
      "\n",
      "Sample label size:  torch.Size([96])\n",
      "Sample label: \n",
      " tensor([ 1,  1,  1,  1,  0,  1,  1,  1,  0,  0,  0,  0,  0,  0,\n",
      "         0,  1,  1,  1,  1,  0,  1,  1,  0,  0,  1,  1,  0,  1,\n",
      "         0,  0,  1,  0,  1,  0,  1,  0,  0,  1,  0,  1,  1,  1,\n",
      "         0,  1,  1,  0,  0,  0,  0,  1,  1,  1,  1,  1,  1,  1,\n",
      "         0,  1,  0,  0,  0,  1,  1,  1,  0,  1,  1,  1,  0,  0,\n",
      "         0,  1,  0,  1,  1,  1,  0,  0,  0,  0,  0,  0,  0,  1,\n",
      "         1,  1,  0,  0,  1,  0,  0,  0,  1,  0,  1,  1], dtype=torch.uint8)\n"
     ]
    }
   ],
   "source": [
    "# obtain one batch of training data\n",
    "dataiter = iter(train_loader)\n",
    "sample_x, sample_y = dataiter.next()\n",
    "\n",
    "print('Sample input size: ', sample_x.size()) # batch_size, seq_length\n",
    "print('Sample input: \\n', sample_x)\n",
    "print()\n",
    "print('Sample label size: ', sample_y.size()) # batch_size\n",
    "print('Sample label: \\n', sample_y)"
   ]
  },
  {
   "cell_type": "markdown",
   "metadata": {},
   "source": [
    "---\n",
    "# Sentiment Network with PyTorch\n",
    "\n",
    "Below is where you'll define the network.\n",
    "\n",
    "<img src=\"assets/network_diagram.png\" width=40%>\n",
    "\n",
    "The layers are as follows:\n",
    "1. An [embedding layer](https://pytorch.org/docs/stable/nn.html#embedding) that converts our word tokens (integers) into embeddings of a specific size.\n",
    "2. An [LSTM layer](https://pytorch.org/docs/stable/nn.html#lstm) defined by a hidden_state size and number of layers\n",
    "3. A fully-connected output layer that maps the LSTM layer outputs to a desired output_size\n",
    "4. A sigmoid activation layer which turns all outputs into a value 0-1; return **only the last sigmoid output** as the output of this network.\n",
    "\n",
    "### The Embedding Layer\n",
    "\n",
    "We need to add an [embedding layer](https://pytorch.org/docs/stable/nn.html#embedding) because there are 74000+ words in our vocabulary. It is massively inefficient to one-hot encode that many classes. So, instead of one-hot encoding, we can have an embedding layer and use that layer as a lookup table. You could train an embedding layer using Word2Vec, then load it here. But, it's fine to just make a new layer, using it for only dimensionality reduction, and let the network learn the weights.\n",
    "\n",
    "\n",
    "### The LSTM Layer(s)\n",
    "\n",
    "We'll create an [LSTM](https://pytorch.org/docs/stable/nn.html#lstm) to use in our recurrent network, which takes in an input_size, a hidden_dim, a number of layers, a dropout probability (for dropout between multiple layers), and a batch_first parameter.\n",
    "\n",
    "Most of the time, you're network will have better performance with more layers; between 2-3. Adding more layers allows the network to learn really complex relationships. \n",
    "\n",
    "> **Exercise:** Complete the `__init__`, `forward`, and `init_hidden` functions for the SentimentRNN model class.\n",
    "\n",
    "Note: `init_hidden` should initialize the hidden and cell state of an lstm layer to all zeros, and move those state to GPU, if available."
   ]
  },
  {
   "cell_type": "code",
   "execution_count": 20,
   "metadata": {},
   "outputs": [
    {
     "name": "stdout",
     "output_type": "stream",
     "text": [
      "No GPU available, training on CPU.\n"
     ]
    }
   ],
   "source": [
    "# First checking if GPU is available\n",
    "train_on_gpu=torch.cuda.is_available()\n",
    "\n",
    "if(train_on_gpu):\n",
    "    print('Training on GPU.')\n",
    "else:\n",
    "    print('No GPU available, training on CPU.')\n",
    "    \n",
    "device = 'cuda' if torch.cuda.is_available() else 'cpu'"
   ]
  },
  {
   "cell_type": "code",
   "execution_count": 21,
   "metadata": {},
   "outputs": [],
   "source": [
    "import torch.nn as nn\n",
    "import torch.nn.functional as F\n",
    "\n",
    "class SentimentRNN(nn.Module):\n",
    "    \"\"\"\n",
    "    The RNN model that will be used to perform Sentiment analysis.\n",
    "    \"\"\"\n",
    "\n",
    "    def __init__(self, vocab_size, output_size, embedding_dim, hidden_dim, n_layers, \\\n",
    "                 rnn_drop_prob=0.5, fc_drop_prob=0.1):\n",
    "        \"\"\"\n",
    "        Initialize the model by setting up the layers.\n",
    "        \"\"\"\n",
    "        super(SentimentRNN, self).__init__()\n",
    "\n",
    "        self.output_size = output_size\n",
    "        self.n_layers = n_layers\n",
    "        self.hidden_dim = hidden_dim\n",
    "        \n",
    "        # https://pytorch.org/docs/stable/nn.html#embedding\n",
    "        self.embedding = nn.Embedding(vocab_size, embedding_dim)\n",
    "        \n",
    "        # https://pytorch.org/docs/stable/nn.html#torch.nn.GRU\n",
    "        # batch_first=True gives input and output of shape (batch, seq, feature)\n",
    "        \n",
    "        # https://pytorch.org/docs/stable/nn.html#lstm\n",
    "        self.lstm = nn.LSTM(input_size=embedding_dim, hidden_size=hidden_dim, num_layers=n_layers,\n",
    "                          dropout=0 if n_layers == 1 else rnn_drop_prob, batch_first=True)\n",
    "        \n",
    "        self.fc_dropout = nn.Dropout(p=fc_drop_prob)\n",
    "        self.activation = nn.LeakyReLU()\n",
    "        self.conv1d = nn.MaxPool1d(2)\n",
    "#         self.fc = nn.Linear(hidden_dim, output_size)\n",
    "        \n",
    "        self.fc_hidden = 20  # Number of neurons in layer between conv1d and output\n",
    "        self.fc1 = nn.Linear(hidden_dim//2, self.fc_hidden)\n",
    "        self.fc2 = nn.Linear(self.fc_hidden, output_size)\n",
    "\n",
    "\n",
    "    def forward(self, x, hidden):\n",
    "        \"\"\"\n",
    "        Perform a forward pass of our model on some input and hidden state.\n",
    "        \"\"\"\n",
    "        \n",
    "        seq_len = x.shape[1]\n",
    "        \n",
    "#         describe(x.shape)\n",
    "        e = self.embedding(x)\n",
    "#         describe(e.shape)\n",
    "        \n",
    "        lstm_out, hidden = self.lstm(e, hidden)\n",
    "\n",
    "#         describe(lstm_out.shape)\n",
    "        \n",
    "        # Select only the final outputs from dimension 1 (sequences/columns)\n",
    "        # https://pytorch.org/docs/stable/tensors.html?highlight=select#torch.Tensor.select\n",
    "        # Slices the self tensor along the selected dimension at the given index.\n",
    "        # This function returns a tensor with the given dimension removed.\n",
    "        seq_finals = lstm_out.select(1, seq_len-1).contiguous()\n",
    "\n",
    "        # Hmm, I'm not too sure about dropout \n",
    "        x = self.fc_dropout(seq_finals)\n",
    "\n",
    "#         describe(dropped.shape)\n",
    "        x.unsqueeze_(0)\n",
    "#         describe(self.conv1d(dropped).shape)\n",
    "    \n",
    "        \n",
    "#         describe(dropped.shape)\n",
    "\n",
    "        x = self.conv1d(x)\n",
    "        x = self.fc1(x.squeeze(0))\n",
    "        x = self.fc_dropout(x)\n",
    "        x = self.activation(x)\n",
    "        \n",
    "        x = self.fc2(x)\n",
    "        \n",
    "        # No sigmoid here for better numerical stability\n",
    "#         return F.sigmoid(fc_out), hidden\n",
    "        return x, hidden\n",
    "\n",
    "    def init_hidden(self, batch_size):\n",
    "        ''' Initializes hidden state '''\n",
    "        # Create two new tensors with sizes n_layers x batch_size x hidden_dim,\n",
    "        # initialized to zero, for hidden state and cell state of LSTM\n",
    "\n",
    "#         describe(batch_size)\n",
    "#         describe(self.hidden_dim)\n",
    "        return [torch.zeros(self.n_layers, batch_size, self.hidden_dim).to(device) for _ in range(2)]"
   ]
  },
  {
   "cell_type": "markdown",
   "metadata": {},
   "source": [
    "## Instantiate the network\n",
    "\n",
    "Here, we'll instantiate the network. First up, defining the hyperparameters.\n",
    "\n",
    "* `vocab_size`: Size of our vocabulary or the range of values for our input, word tokens.\n",
    "* `output_size`: Size of our desired output; the number of class scores we want to output (pos/neg).\n",
    "* `embedding_dim`: Number of columns in the embedding lookup table; size of our embeddings.\n",
    "* `hidden_dim`: Number of units in the hidden layers of our LSTM cells. Usually larger is better performance wise. Common values are 128, 256, 512, etc.\n",
    "* `n_layers`: Number of LSTM layers in the network. Typically between 1-3\n",
    "\n",
    "> **Exercise:** Define the model  hyperparameters.\n"
   ]
  },
  {
   "cell_type": "code",
   "execution_count": 22,
   "metadata": {},
   "outputs": [
    {
     "name": "stdout",
     "output_type": "stream",
     "text": [
      "SentimentRNN(\n",
      "  (embedding): Embedding(74073, 128)\n",
      "  (lstm): LSTM(128, 32, batch_first=True)\n",
      "  (fc_dropout): Dropout(p=0.05)\n",
      "  (activation): LeakyReLU(negative_slope=0.01)\n",
      "  (conv1d): MaxPool1d(kernel_size=2, stride=2, padding=0, dilation=1, ceil_mode=False)\n",
      "  (fc1): Linear(in_features=16, out_features=20, bias=True)\n",
      "  (fc2): Linear(in_features=20, out_features=1, bias=True)\n",
      ")\n"
     ]
    }
   ],
   "source": [
    "# Using hyperparams based on:\n",
    "# https://www.kaggle.com/nilanml/imdb-review-deep-model-94-89-accuracy\n",
    "\n",
    "# Instantiate the model w/ hyperparams\n",
    "vocab_size = len(vocab_to_int) + 1  # Also include padding\n",
    "output_size = 1\n",
    "embedding_dim = 128\n",
    "hidden_dim = 32\n",
    "n_layers = 1\n",
    "rnn_drop_prob = 0\n",
    "fc_drop_prob = 0.05\n",
    "\n",
    "net = SentimentRNN(vocab_size, output_size, embedding_dim, hidden_dim, n_layers, \\\n",
    "                   rnn_drop_prob, fc_drop_prob).to(device)\n",
    "print(net)\n",
    "\n",
    "# Tests\n",
    "test_input = torch.randint(low=0, high=3+1, size=(batch_size, seq_length), dtype=torch.long, device=device) \n",
    "hidden = net.init_hidden(batch_size)\n",
    "assert net(test_input, hidden)[0].shape == (batch_size, output_size), \"Network output shape incorrect. \" \\\n",
    "    f\"Expected: {(batch_size, output_size)}, got: {net(test_input, hidden)[0].shape}\""
   ]
  },
  {
   "cell_type": "markdown",
   "metadata": {},
   "source": [
    "---\n",
    "## Training\n",
    "\n",
    "Below is the typical training code. If you want to do this yourself, feel free to delete all this code and implement it yourself. You can also add code to save a model by name.\n",
    "\n",
    ">We'll also be using a new kind of cross entropy loss, which is designed to work with a single Sigmoid output. [BCELoss](https://pytorch.org/docs/stable/nn.html#bceloss), or **Binary Cross Entropy Loss**, applies cross entropy loss to a single value between 0 and 1.\n",
    "\n",
    "We also have some data and training hyparameters:\n",
    "\n",
    "* `lr`: Learning rate for our optimizer.\n",
    "* `epochs`: Number of times to iterate through the training dataset.\n",
    "* `clip`: The maximum gradient value to clip at (to prevent exploding gradients)."
   ]
  },
  {
   "cell_type": "code",
   "execution_count": 23,
   "metadata": {},
   "outputs": [],
   "source": [
    "# loss and optimization functions\n",
    "lr=0.001\n",
    "\n",
    "# criterion = nn.BCELoss()  # when output has sigmoid applied\n",
    "criterion = nn.BCEWithLogitsLoss()\n",
    "optimizer = torch.optim.Adam(net.parameters(), lr=lr)"
   ]
  },
  {
   "cell_type": "code",
   "execution_count": 24,
   "metadata": {},
   "outputs": [],
   "source": [
    "model_save_path = 'sentiment_rnn.pth'\n",
    "optim_save_path = 'optimizer.pth'"
   ]
  },
  {
   "cell_type": "code",
   "execution_count": 27,
   "metadata": {},
   "outputs": [],
   "source": [
    "# Whether to train or load previously saved model\n",
    "train = False\n",
    "\n",
    "if not train:\n",
    "    if torch.cuda.is_available():\n",
    "        map_location=lambda storage, loc: storage.cuda()\n",
    "    else:\n",
    "        map_location='cpu'\n",
    "\n",
    "    net.load_state_dict(torch.load(model_save_path, map_location=map_location))\n",
    "    optimizer.load_state_dict(torch.load(optim_save_path, map_location=map_location))"
   ]
  },
  {
   "cell_type": "code",
   "execution_count": 28,
   "metadata": {},
   "outputs": [],
   "source": [
    "if train:\n",
    "    epochs = 10\n",
    "    clip = 5 # max gradient for clipping\n",
    "\n",
    "    counter = 0\n",
    "    print_every = 100\n",
    "\n",
    "    net.train()\n",
    "    # train for some number of epochs\n",
    "    for e in range(epochs):\n",
    "        # batch loop\n",
    "        for inputs, labels in train_loader:\n",
    "            counter += 1\n",
    "\n",
    "            inputs, labels = inputs.to(device, dtype=torch.long), labels.to(device)\n",
    "\n",
    "    #         # Creating new variables for the hidden state, otherwise\n",
    "    #         # we'd backprop through the entire training history\n",
    "    #         h = tuple([each.data for each in h])\n",
    "\n",
    "            # zero accumulated gradients\n",
    "            net.zero_grad()\n",
    "\n",
    "    #         s = inputs.shape\n",
    "    #         describe(s)\n",
    "    #         inputs = torch.randint(low=0, high=3+1, size=s, dtype=torch.long, device=device) \n",
    "\n",
    "            # initialize hidden state\n",
    "            h = net.init_hidden(inputs.shape[0])\n",
    "\n",
    "            # get the output from the model\n",
    "            output, h = net(inputs, h)\n",
    "\n",
    "            # calculate the loss and perform backprop\n",
    "            loss = criterion(output.squeeze(), labels.float())\n",
    "            loss.backward()\n",
    "            # `clip_grad_norm` helps prevent the exploding gradient problem in RNNs / LSTMs.\n",
    "            nn.utils.clip_grad_norm_(net.parameters(), clip)\n",
    "            optimizer.step()\n",
    "\n",
    "            # loss stats\n",
    "            if counter % print_every == 0:\n",
    "                # Get validation loss\n",
    "    #             val_h = net.init_hidden(batch_size)\n",
    "\n",
    "    #             describe([val_h[0].shape, val_h[1].shape])\n",
    "\n",
    "                val_losses = []\n",
    "                net.eval()\n",
    "                for inputs, labels in valid_loader:\n",
    "                    inputs, labels = inputs.to(device, dtype=torch.long), labels.to(device)\n",
    "\n",
    "    #                 # Creating new variables for the hidden state, otherwise\n",
    "    #                 # we'd backprop through the entire training history\n",
    "    #                 val_h = tuple([each.data for each in val_h])\n",
    "\n",
    "    #                 val_h = net.init_hidden(inputs.shape[0])\n",
    "\n",
    "    #                 describe([val_h[0].shape, val_h[1].shape])\n",
    "\n",
    "                    h = net.init_hidden(inputs.shape[0])\n",
    "\n",
    "                    output, val_h = net(inputs, h)\n",
    "                    val_loss = criterion(output.squeeze(), labels.float())\n",
    "\n",
    "                    val_losses.append(val_loss.item())\n",
    "\n",
    "                net.train()\n",
    "                print(\"Epoch: {}/{}...\".format(e+1, epochs),\n",
    "                      \"Step: {}...\".format(counter),\n",
    "                      \"Loss: {:.6f}...\".format(loss.item()),\n",
    "                      \"Val Loss: {:.6f}\".format(np.mean(val_losses)))"
   ]
  },
  {
   "cell_type": "code",
   "execution_count": 29,
   "metadata": {},
   "outputs": [],
   "source": [
    "if train:\n",
    "    torch.save(net.state_dict(), model_save_path)\n",
    "    torch.save(optimizer.state_dict(), optim_save_path)"
   ]
  },
  {
   "cell_type": "markdown",
   "metadata": {},
   "source": [
    "---\n",
    "## Testing\n",
    "\n",
    "There are a few ways to test your network.\n",
    "\n",
    "* **Test data performance:** First, we'll see how our trained model performs on all of our defined test_data, above. We'll calculate the average loss and accuracy over the test data.\n",
    "\n",
    "* **Inference on user-generated data:** Second, we'll see if we can input just one example review at a time (without a label), and see what the trained model predicts. Looking at new, user input data like this, and predicting an output label, is called **inference**."
   ]
  },
  {
   "cell_type": "code",
   "execution_count": 82,
   "metadata": {},
   "outputs": [
    {
     "name": "stdout",
     "output_type": "stream",
     "text": [
      "Test loss: 0.165\n",
      "Test accuracy: 0.957\n"
     ]
    }
   ],
   "source": [
    "# Get test data loss and accuracy\n",
    "\n",
    "test_losses = [] # track loss\n",
    "num_correct = 0\n",
    "num_examples = 0\n",
    "\n",
    "net.eval()\n",
    "# iterate over test data\n",
    "for inputs, labels in valid_loader:\n",
    "    inputs, labels = inputs.to(device, dtype=torch.long), labels.to(device)\n",
    "    \n",
    "    batch_size = labels.size(0)\n",
    "    \n",
    "    # init hidden state\n",
    "    h = net.init_hidden(batch_size)\n",
    "\n",
    "    # get predicted outputs\n",
    "    output, h = net(inputs, h)\n",
    "    \n",
    "    output.squeeze_()\n",
    "    \n",
    "    # calculate loss\n",
    "    test_loss = criterion(output, labels.float())\n",
    "    test_losses.append(test_loss.item())\n",
    "    \n",
    "    output.sigmoid_()\n",
    "    \n",
    "#     describe(output)\n",
    "\n",
    "    # Round output probabilities to predicted class (0 or 1)\n",
    "    pred = torch.round(output).byte()\n",
    "    \n",
    "#     describe(pred)\n",
    "\n",
    "    # Compare predictions to true label\n",
    "    correct_tensor = pred.eq(labels)\n",
    "    \n",
    "    \n",
    "    \n",
    "# #     correct_tensor = pred.eq(labels.float().view_as(pred))\n",
    "#     correct = np.squeeze(correct_tensor.numpy()) if not train_on_gpu else np.squeeze(correct_tensor.cpu().numpy())\n",
    "#     num_correct += np.sum(correct)\n",
    "    \n",
    "#     num=28\n",
    "    \n",
    "#     describe(sum(correct_tensor).item())\n",
    "\n",
    "#     describe(sum(correct_tensor).item() / labels.shape[0])\n",
    "    \n",
    "    num_examples += batch_size\n",
    "    num_correct += sum(correct_tensor).item()\n",
    "    \n",
    "    \n",
    "#     print('labels:')\n",
    "#     print(labels[0:num])\n",
    "#     print()\n",
    "#     print('pred:')\n",
    "#     print(pred[0:num])\n",
    "#     print('---------------------------------------------------')\n",
    "    \n",
    "#     describe(labels.shape)\n",
    "    \n",
    "#     correct_tensor = pred.eq(labels.float()) # .view_as(pred))\n",
    "#     correct = np.squeeze(correct_tensor.numpy()) if not train_on_gpu else np.squeeze(correct_tensor.cpu().numpy())\n",
    "#     num_correct += correct.sum()\n",
    "\n",
    "\n",
    "# -- stats! -- ##\n",
    "# avg test loss\n",
    "print(\"Test loss: {:.3f}\".format(np.mean(test_losses)))  # TODO: account for heterogenous batch sizes\n",
    "\n",
    "# accuracy over all test data\n",
    "test_acc = num_correct / num_examples\n",
    "print(\"Test accuracy: {:.3f}\".format(test_acc))"
   ]
  },
  {
   "cell_type": "markdown",
   "metadata": {},
   "source": [
    "### Inference on a test review\n",
    "\n",
    "You can change this test_review to any text that you want. Read it and think: is it pos or neg? Then see if your model predicts correctly!\n",
    "    \n",
    "> **Exercise:** Write a `predict` function that takes in a trained net, a plain text_review, and a sequence length, and prints out a custom statement for a positive or negative review!\n",
    "* You can use any functions that you've already defined or define any helper functions you want to complete `predict`, but it should just take in a trained net, a text review, and a sequence length.\n"
   ]
  },
  {
   "cell_type": "code",
   "execution_count": 66,
   "metadata": {},
   "outputs": [],
   "source": [
    "def predict(net, test_review, seq_length=seq_length):\n",
    "    ''' Prints out whether a give review is predicted to be \n",
    "        positive or negative in sentiment, using a trained model.\n",
    "        \n",
    "        params:\n",
    "        net - A trained net \n",
    "        test_review - a review made of normal text and punctuation\n",
    "        sequence_length - the padded length of a review\n",
    "        '''\n",
    "    review_ints = reviews_to_ints(clean_data(test_review))\n",
    "    padded = torch.tensor(pad_features(review_ints, seq_length=seq_length), device=device)\n",
    "    y = net(padded, net.init_hidden(batch_size=1))[0]\n",
    "    y = F.sigmoid(y).item()\n",
    "    review = 'negative' if y < 0.5 else 'positive'\n",
    "    print(f'The review is {review} (sigmoid: {y:.3f})')"
   ]
  },
  {
   "cell_type": "code",
   "execution_count": 115,
   "metadata": {},
   "outputs": [],
   "source": [
    "# negative test review\n",
    "test_review_neg = 'The worst movie I have seen; acting was terrible and I want my money back. This movie had bad acting and the dialogue was slow.'\n",
    "# test_review_neg = 'I want my money back.'"
   ]
  },
  {
   "cell_type": "code",
   "execution_count": 116,
   "metadata": {},
   "outputs": [],
   "source": [
    "# positive test review\n",
    "test_review_pos = 'This movie had convincing acting and the dialogue was believable.'\n",
    "test_review_pos = 'Definitely worth the money.'\n",
    "# test_review_pos = 'This movie was better than good'"
   ]
  },
  {
   "cell_type": "code",
   "execution_count": 117,
   "metadata": {},
   "outputs": [
    {
     "name": "stdout",
     "output_type": "stream",
     "text": [
      "The review is negative (sigmoid: 0.002)\n",
      "The review is positive (sigmoid: 0.774)\n"
     ]
    }
   ],
   "source": [
    "# call function\n",
    "# try negative and positive reviews!\n",
    "\n",
    "predict(net, test_review_neg, seq_length)\n",
    "predict(net, test_review_pos, seq_length)"
   ]
  },
  {
   "cell_type": "markdown",
   "metadata": {},
   "source": [
    "### Try out test_reviews of your own!\n",
    "\n",
    "Now that you have a trained model and a predict function, you can pass in _any_ kind of text and this model will predict whether the text has a positive or negative sentiment. Push this model to its limits and try to find what words it associates with positive or negative.\n",
    "\n",
    "Later, you'll learn how to deploy a model like this to a production environment so that it can respond to any kind of user data put into a web app!"
   ]
  }
 ],
 "metadata": {
  "kernelspec": {
   "display_name": "Python 3",
   "language": "python",
   "name": "python3"
  },
  "language_info": {
   "codemirror_mode": {
    "name": "ipython",
    "version": 3
   },
   "file_extension": ".py",
   "mimetype": "text/x-python",
   "name": "python",
   "nbconvert_exporter": "python",
   "pygments_lexer": "ipython3",
   "version": "3.6.5"
  }
 },
 "nbformat": 4,
 "nbformat_minor": 2
}
